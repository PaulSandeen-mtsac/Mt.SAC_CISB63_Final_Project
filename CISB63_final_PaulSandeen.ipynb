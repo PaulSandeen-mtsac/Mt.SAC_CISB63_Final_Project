{
 "cells": [
  {
   "cell_type": "markdown",
   "id": "7ca57faa-d929-4371-9559-68e22fc08840",
   "metadata": {},
   "source": [
    "<div style=\"text-align:center\">\n",
    "    \n",
    "# ‘wikiHow’: NLP-Based Text Summarization and Semantic Analysis \n",
    "\n",
    "### Mt. SAC CISB 63 Final Project Fall 2023\n",
    "\n",
    "#### By\n",
    "    \n",
    "#### Paul Sandeen\n",
    "    \n",
    "</div>"
   ]
  },
  {
   "cell_type": "markdown",
   "id": "7b4c1db9-28ab-441d-9122-2d4a5d753ee7",
   "metadata": {},
   "source": [
    "## Introduction"
   ]
  },
  {
   "cell_type": "markdown",
   "id": "c9cf7300-abbe-4a0f-8f5a-8a634279c386",
   "metadata": {},
   "source": [
    "A wiki (pronounced “WIK-ee”) is an Internet website containing information created and maintained by its readership community. The website wikiHow is a knowledge base that contains “how-to” information on a wide variety of topics including Hobbies and Crafts, Pets and Animals, Philosophy and Religion, Relationships, and Health. The goal of wikiHow is to allow readers to acquire new skills by reading articles with step-by-step illustrated instructions on how to perform various tasks related to topic categories.\n",
    "\n",
    "The wikiHow Dataset is a large collection of articles from the wikiHow knowledge base saved in a Comma-Separated Value (.csv) file format. There are three columns in the CSV file:\n",
    "\n",
    "- Title: The title of the article on wikiHow.\n",
    "- Headline: The summary of the steps in the step-by-step description.\n",
    "- Text: The body of the article containing step-by-step directions.\n",
    "\n",
    "This project will use Natural Language Processing (NLP) techniques to analyze the articles in the wikiHow Dataset to identify related topics and provide summarization of the articles.\n",
    "\n"
   ]
  },
  {
   "cell_type": "markdown",
   "id": "24423417-da68-4ba6-a57b-d19d27cfea02",
   "metadata": {},
   "source": [
    "## Intended Audience"
   ]
  },
  {
   "cell_type": "markdown",
   "id": "a875a9fe-339d-452a-bd39-b4025a5a3c32",
   "metadata": {},
   "source": [
    "This project will benefit anyone with an interest in NLP techniques for text summarization and topic identification. Proficiency with the Python programming language is required. Familiarity with the basic concepts of text summarization and topic identification is assumed."
   ]
  },
  {
   "cell_type": "markdown",
   "id": "9cbbb5ac-9cdb-4945-9126-b70dbc8973fd",
   "metadata": {},
   "source": [
    "## Materiels and Methods"
   ]
  },
  {
   "cell_type": "markdown",
   "id": "499e1fbd-9090-43bf-8c07-21eb4f4a8844",
   "metadata": {},
   "source": [
    "This project uses the Python programming language running in the Anaconda environment. \n",
    "\n",
    "Associated Python data science libraries: Numpy, pandas, Matplotlib, Seaborn.\n",
    "\n",
    "Associated Python NLP libraries: scikit-learn, NLTK, Word2Vec, Seq2Seq, LDA, TF-DFI, spaCy\n",
    "\n",
    "The project was composed as a Jupyter Notebook.\n"
   ]
  },
  {
   "cell_type": "markdown",
   "id": "d7df579e-5422-4f5a-85ec-205563d04a93",
   "metadata": {},
   "source": [
    "## Data Source"
   ]
  },
  {
   "cell_type": "markdown",
   "id": "bf4facef-fb6a-450e-a6dd-565d3a2817c2",
   "metadata": {},
   "source": [
    "The single data file used for the project is:\n",
    "\n",
    "* wikihowAll.csv\n",
    "\n",
    "File size: ~605 MB\n",
    "\n",
    "The data file can be downloaded from:\n",
    "\n",
    "https://github.com/mahnazkoupaee/WikiHow-Dataset\n",
    "\n",
    "The text in the articles is released under the Creative Commons License (CC-BY-NC-SA).\n"
   ]
  },
  {
   "cell_type": "markdown",
   "id": "630909e0-28a9-4fe0-98c5-7bb180a93fcf",
   "metadata": {},
   "source": [
    "## Acquire the Necessary Software Packages"
   ]
  },
  {
   "cell_type": "code",
   "execution_count": 1,
   "id": "098372c6-a60e-41a5-8db1-70565a2c51bb",
   "metadata": {},
   "outputs": [],
   "source": [
    "# Import the Python Data Science libraries\n",
    "import numpy as np\n",
    "import pandas as pd\n",
    "import matplotlib.pyplot as plt\n",
    "import string\n",
    "import ast"
   ]
  },
  {
   "cell_type": "code",
   "execution_count": 2,
   "id": "25f2ceb4-06b6-4226-bccd-0e1fa103a32d",
   "metadata": {},
   "outputs": [],
   "source": [
    "# Import the Python scikit-learn libraries\n",
    "from sklearn.pipeline import Pipeline\n",
    "from sklearn.feature_extraction.text import CountVectorizer\n",
    "from sklearn.feature_extraction.text import TfidfTransformer\n",
    "from sklearn.naive_bayes import MultinomialNB\n",
    "from sklearn.datasets import make_classification"
   ]
  },
  {
   "cell_type": "code",
   "execution_count": 3,
   "id": "0442b828-1640-4630-a803-d77974893893",
   "metadata": {},
   "outputs": [],
   "source": [
    "# Import the Python NLP libraries\n",
    "\n",
    "from textblob import TextBlob\n",
    "\n",
    "import tensorflow as tf\n",
    "\n",
    "import nltk\n",
    "from nltk.corpus import stopwords\n",
    "from nltk.tokenize import word_tokenize, sent_tokenize\n",
    "from nltk.tag import pos_tag\n",
    "from nltk.chunk import ne_chunk\n",
    "\n",
    "import re\n",
    "\n",
    "from datetime import date\n",
    "from datetime import datetime\n",
    "\n",
    "from wordcloud import WordCloud\n",
    "\n",
    "import spacy\n",
    "from spacy import displacy\n",
    "\n",
    "from gensim import corpora, models\n",
    "import gensim.downloader as api\n",
    "\n",
    "from string import punctuation\n",
    "\n",
    "import transformers\n",
    "from transformers import pipeline\n",
    "\n",
    "from tqdm import tqdm\n",
    "from gensim.models import Word2Vec \n",
    "import umap\n",
    "\n",
    "from sklearn.feature_extraction.text import TfidfVectorizer\n",
    "from sklearn.decomposition import NMF\n",
    "\n",
    "from sklearn.decomposition import LatentDirichletAllocation\n",
    "from sklearn.metrics.pairwise import cosine_similarity\n",
    "\n",
    "from tensorflow.keras.preprocessing.text import Tokenizer\n",
    "from tensorflow.keras.preprocessing.sequence import pad_sequences\n"
   ]
  },
  {
   "cell_type": "code",
   "execution_count": 4,
   "id": "eb6939a2-dadc-488c-923d-039a08dcf45c",
   "metadata": {},
   "outputs": [],
   "source": [
    "# Disbable Jupyter notebook warnings\n",
    "import warnings\n",
    "warnings.filterwarnings(\"ignore\")"
   ]
  },
  {
   "cell_type": "code",
   "execution_count": 5,
   "id": "f06bbbd9-301a-472a-bcf1-ce70fd20b81e",
   "metadata": {},
   "outputs": [
    {
     "name": "stderr",
     "output_type": "stream",
     "text": [
      "[nltk_data] Downloading package punkt to\n",
      "[nltk_data]     C:\\Users\\psand\\AppData\\Roaming\\nltk_data...\n",
      "[nltk_data]   Package punkt is already up-to-date!\n"
     ]
    },
    {
     "data": {
      "text/plain": [
       "True"
      ]
     },
     "execution_count": 5,
     "metadata": {},
     "output_type": "execute_result"
    }
   ],
   "source": [
    "# Download the NLTK databases\n",
    "nltk.download(\"punkt\")\n"
   ]
  },
  {
   "cell_type": "markdown",
   "id": "0452cc3f-53a7-4760-a272-2673c84b26ea",
   "metadata": {},
   "source": [
    "## Load the Textual Data"
   ]
  },
  {
   "cell_type": "code",
   "execution_count": 6,
   "id": "43ad86de-5325-49fe-a857-1f9236752d7f",
   "metadata": {},
   "outputs": [],
   "source": [
    "# Load the articles into a pandas DataFrame\n",
    "articles_df = pd.read_csv(\"data/wikihowAll.csv\")"
   ]
  },
  {
   "cell_type": "markdown",
   "id": "0cff963e-683c-436f-a5fe-b4506f43b3ff",
   "metadata": {},
   "source": [
    "## Exploratory Data Analysis (EDA)"
   ]
  },
  {
   "cell_type": "markdown",
   "id": "5773f373-13ec-4e5b-9a50-84c2f4e7c4a8",
   "metadata": {},
   "source": [
    "#### Display the head of the DataFrame"
   ]
  },
  {
   "cell_type": "code",
   "execution_count": 7,
   "id": "3c65e666-c2ba-4112-8c87-00f993fe4a5b",
   "metadata": {},
   "outputs": [
    {
     "data": {
      "text/html": [
       "<div>\n",
       "<style scoped>\n",
       "    .dataframe tbody tr th:only-of-type {\n",
       "        vertical-align: middle;\n",
       "    }\n",
       "\n",
       "    .dataframe tbody tr th {\n",
       "        vertical-align: top;\n",
       "    }\n",
       "\n",
       "    .dataframe thead th {\n",
       "        text-align: right;\n",
       "    }\n",
       "</style>\n",
       "<table border=\"1\" class=\"dataframe\">\n",
       "  <thead>\n",
       "    <tr style=\"text-align: right;\">\n",
       "      <th></th>\n",
       "      <th>headline</th>\n",
       "      <th>title</th>\n",
       "      <th>text</th>\n",
       "    </tr>\n",
       "  </thead>\n",
       "  <tbody>\n",
       "    <tr>\n",
       "      <th>0</th>\n",
       "      <td>\\nKeep related supplies in the same area.,\\nMa...</td>\n",
       "      <td>How to Be an Organized Artist1</td>\n",
       "      <td>If you're a photographer, keep all the necess...</td>\n",
       "    </tr>\n",
       "    <tr>\n",
       "      <th>1</th>\n",
       "      <td>\\nCreate a sketch in the NeoPopRealist manner ...</td>\n",
       "      <td>How to Create a Neopoprealist Art Work</td>\n",
       "      <td>See the image for how this drawing develops s...</td>\n",
       "    </tr>\n",
       "    <tr>\n",
       "      <th>2</th>\n",
       "      <td>\\nGet a bachelor’s degree.,\\nEnroll in a studi...</td>\n",
       "      <td>How to Be a Visual Effects Artist1</td>\n",
       "      <td>It is possible to become a VFX artist without...</td>\n",
       "    </tr>\n",
       "    <tr>\n",
       "      <th>3</th>\n",
       "      <td>\\nStart with some experience or interest in ar...</td>\n",
       "      <td>How to Become an Art Investor</td>\n",
       "      <td>The best art investors do their research on t...</td>\n",
       "    </tr>\n",
       "    <tr>\n",
       "      <th>4</th>\n",
       "      <td>\\nKeep your reference materials, sketches, art...</td>\n",
       "      <td>How to Be an Organized Artist2</td>\n",
       "      <td>As you start planning for a project or work, ...</td>\n",
       "    </tr>\n",
       "  </tbody>\n",
       "</table>\n",
       "</div>"
      ],
      "text/plain": [
       "                                            headline  \\\n",
       "0  \\nKeep related supplies in the same area.,\\nMa...   \n",
       "1  \\nCreate a sketch in the NeoPopRealist manner ...   \n",
       "2  \\nGet a bachelor’s degree.,\\nEnroll in a studi...   \n",
       "3  \\nStart with some experience or interest in ar...   \n",
       "4  \\nKeep your reference materials, sketches, art...   \n",
       "\n",
       "                                    title  \\\n",
       "0          How to Be an Organized Artist1   \n",
       "1  How to Create a Neopoprealist Art Work   \n",
       "2      How to Be a Visual Effects Artist1   \n",
       "3           How to Become an Art Investor   \n",
       "4          How to Be an Organized Artist2   \n",
       "\n",
       "                                                text  \n",
       "0   If you're a photographer, keep all the necess...  \n",
       "1   See the image for how this drawing develops s...  \n",
       "2   It is possible to become a VFX artist without...  \n",
       "3   The best art investors do their research on t...  \n",
       "4   As you start planning for a project or work, ...  "
      ]
     },
     "execution_count": 7,
     "metadata": {},
     "output_type": "execute_result"
    }
   ],
   "source": [
    "# User complaints dictionary\n",
    "articles_df.head()"
   ]
  },
  {
   "cell_type": "markdown",
   "id": "9edd838f-c432-4c8a-a41b-866d82be9911",
   "metadata": {},
   "source": [
    "<b>Note</b>: The columns 'headline' and 'title' should be swapped to get the 'title' > 'headline' > 'text' order."
   ]
  },
  {
   "cell_type": "code",
   "execution_count": 8,
   "id": "8e84d0e2-e95d-4703-a04d-351a359b8e5b",
   "metadata": {},
   "outputs": [
    {
     "data": {
      "text/html": [
       "<div>\n",
       "<style scoped>\n",
       "    .dataframe tbody tr th:only-of-type {\n",
       "        vertical-align: middle;\n",
       "    }\n",
       "\n",
       "    .dataframe tbody tr th {\n",
       "        vertical-align: top;\n",
       "    }\n",
       "\n",
       "    .dataframe thead th {\n",
       "        text-align: right;\n",
       "    }\n",
       "</style>\n",
       "<table border=\"1\" class=\"dataframe\">\n",
       "  <thead>\n",
       "    <tr style=\"text-align: right;\">\n",
       "      <th></th>\n",
       "      <th>title</th>\n",
       "      <th>headline</th>\n",
       "      <th>text</th>\n",
       "    </tr>\n",
       "  </thead>\n",
       "  <tbody>\n",
       "    <tr>\n",
       "      <th>0</th>\n",
       "      <td>How to Be an Organized Artist1</td>\n",
       "      <td>\\nKeep related supplies in the same area.,\\nMa...</td>\n",
       "      <td>If you're a photographer, keep all the necess...</td>\n",
       "    </tr>\n",
       "    <tr>\n",
       "      <th>1</th>\n",
       "      <td>How to Create a Neopoprealist Art Work</td>\n",
       "      <td>\\nCreate a sketch in the NeoPopRealist manner ...</td>\n",
       "      <td>See the image for how this drawing develops s...</td>\n",
       "    </tr>\n",
       "    <tr>\n",
       "      <th>2</th>\n",
       "      <td>How to Be a Visual Effects Artist1</td>\n",
       "      <td>\\nGet a bachelor’s degree.,\\nEnroll in a studi...</td>\n",
       "      <td>It is possible to become a VFX artist without...</td>\n",
       "    </tr>\n",
       "    <tr>\n",
       "      <th>3</th>\n",
       "      <td>How to Become an Art Investor</td>\n",
       "      <td>\\nStart with some experience or interest in ar...</td>\n",
       "      <td>The best art investors do their research on t...</td>\n",
       "    </tr>\n",
       "    <tr>\n",
       "      <th>4</th>\n",
       "      <td>How to Be an Organized Artist2</td>\n",
       "      <td>\\nKeep your reference materials, sketches, art...</td>\n",
       "      <td>As you start planning for a project or work, ...</td>\n",
       "    </tr>\n",
       "  </tbody>\n",
       "</table>\n",
       "</div>"
      ],
      "text/plain": [
       "                                    title  \\\n",
       "0          How to Be an Organized Artist1   \n",
       "1  How to Create a Neopoprealist Art Work   \n",
       "2      How to Be a Visual Effects Artist1   \n",
       "3           How to Become an Art Investor   \n",
       "4          How to Be an Organized Artist2   \n",
       "\n",
       "                                            headline  \\\n",
       "0  \\nKeep related supplies in the same area.,\\nMa...   \n",
       "1  \\nCreate a sketch in the NeoPopRealist manner ...   \n",
       "2  \\nGet a bachelor’s degree.,\\nEnroll in a studi...   \n",
       "3  \\nStart with some experience or interest in ar...   \n",
       "4  \\nKeep your reference materials, sketches, art...   \n",
       "\n",
       "                                                text  \n",
       "0   If you're a photographer, keep all the necess...  \n",
       "1   See the image for how this drawing develops s...  \n",
       "2   It is possible to become a VFX artist without...  \n",
       "3   The best art investors do their research on t...  \n",
       "4   As you start planning for a project or work, ...  "
      ]
     },
     "execution_count": 8,
     "metadata": {},
     "output_type": "execute_result"
    }
   ],
   "source": [
    "# Swap the positions of the 'headline' and 'title' columns\n",
    "move_column = articles_df.pop('title')\n",
    "articles_df.insert(0, 'title', move_column)\n",
    "articles_df.head()"
   ]
  },
  {
   "cell_type": "markdown",
   "id": "091ba4cc-df7b-49dc-8aaf-96491c76bf38",
   "metadata": {},
   "source": [
    "#### Discribe the contents of the DataFrame"
   ]
  },
  {
   "cell_type": "code",
   "execution_count": 9,
   "id": "982d768b-cdc6-493b-846e-d9c8f45b86fb",
   "metadata": {},
   "outputs": [
    {
     "data": {
      "text/plain": [
       "<bound method NDFrame.describe of                                          title  \\\n",
       "0               How to Be an Organized Artist1   \n",
       "1       How to Create a Neopoprealist Art Work   \n",
       "2           How to Be a Visual Effects Artist1   \n",
       "3                How to Become an Art Investor   \n",
       "4               How to Be an Organized Artist2   \n",
       "...                                        ...   \n",
       "215360               How to Pick a Stage Name3   \n",
       "215361               How to Pick a Stage Name4   \n",
       "215362                 How to Identify Prints1   \n",
       "215363                 How to Identify Prints2   \n",
       "215364                 How to Identify Prints3   \n",
       "\n",
       "                                                 headline  \\\n",
       "0       \\nKeep related supplies in the same area.,\\nMa...   \n",
       "1       \\nCreate a sketch in the NeoPopRealist manner ...   \n",
       "2       \\nGet a bachelor’s degree.,\\nEnroll in a studi...   \n",
       "3       \\nStart with some experience or interest in ar...   \n",
       "4       \\nKeep your reference materials, sketches, art...   \n",
       "...                                                   ...   \n",
       "215360  \\nConsider changing the spelling of your name....   \n",
       "215361  \\nTry out your name.,\\nDon’t legally change yo...   \n",
       "215362  \\nUnderstand the process of relief printing.,\\...   \n",
       "215363  \\nUnderstand the process of intaglio printing....   \n",
       "215364  \\nUnderstand the different varieties of lithog...   \n",
       "\n",
       "                                                     text  \n",
       "0        If you're a photographer, keep all the necess...  \n",
       "1        See the image for how this drawing develops s...  \n",
       "2        It is possible to become a VFX artist without...  \n",
       "3        The best art investors do their research on t...  \n",
       "4        As you start planning for a project or work, ...  \n",
       "...                                                   ...  \n",
       "215360   If you have a name that you like, you might f...  \n",
       "215361   Your name might sound great to you when you s...  \n",
       "215362   Relief printing is the oldest and most tradit...  \n",
       "215363   Intaglio is Italian for \"incis­ing,\" and corr...  \n",
       "215364   Lithography is a big term often used to refer...  \n",
       "\n",
       "[215365 rows x 3 columns]>"
      ]
     },
     "execution_count": 9,
     "metadata": {},
     "output_type": "execute_result"
    }
   ],
   "source": [
    "# Describe the DataFrame\n",
    "articles_df.describe"
   ]
  },
  {
   "cell_type": "markdown",
   "id": "13720abe-7398-468f-8a7c-a73800a5d25b",
   "metadata": {},
   "source": [
    "#### Display the info for the DataFrame"
   ]
  },
  {
   "cell_type": "code",
   "execution_count": 10,
   "id": "e2d84bcf-c080-48fa-ae5d-ce4b88064daf",
   "metadata": {},
   "outputs": [
    {
     "name": "stdout",
     "output_type": "stream",
     "text": [
      "<class 'pandas.core.frame.DataFrame'>\n",
      "RangeIndex: 215365 entries, 0 to 215364\n",
      "Data columns (total 3 columns):\n",
      " #   Column    Non-Null Count   Dtype \n",
      "---  ------    --------------   ----- \n",
      " 0   title     215364 non-null  object\n",
      " 1   headline  214547 non-null  object\n",
      " 2   text      214294 non-null  object\n",
      "dtypes: object(3)\n",
      "memory usage: 4.9+ MB\n"
     ]
    }
   ],
   "source": [
    "# Display the DataFram info\n",
    "articles_df.info()"
   ]
  },
  {
   "cell_type": "markdown",
   "id": "a0d34a97-5f0b-4c0d-b6c3-51aacd7dfe16",
   "metadata": {},
   "source": [
    "#### Display the 'title', 'headline', and 'text' of the first article"
   ]
  },
  {
   "cell_type": "code",
   "execution_count": 11,
   "id": "56fe8c30-be9c-4738-b7e1-82e006edf914",
   "metadata": {},
   "outputs": [
    {
     "data": {
      "text/plain": [
       "'How to Be an Organized Artist1'"
      ]
     },
     "execution_count": 11,
     "metadata": {},
     "output_type": "execute_result"
    }
   ],
   "source": [
    "# Display the first article 'title'\n",
    "articles_df.title[0]"
   ]
  },
  {
   "cell_type": "code",
   "execution_count": 12,
   "id": "9690f257-c2c2-4bee-8547-5950d19c79e6",
   "metadata": {},
   "outputs": [
    {
     "data": {
      "text/plain": [
       "'\\nKeep related supplies in the same area.,\\nMake an effort to clean a dedicated workspace after every session.,\\nPlace loose supplies in large, clearly visible containers.,\\nUse clotheslines and clips to hang sketches, photos, and reference material.,\\nUse every inch of the room for storage, especially vertical space.,\\nUse chalkboard paint to make space for drafting ideas right on the walls.,\\nPurchase a label maker to make your organization strategy semi-permanent.,\\nMake a habit of throwing out old, excess, or useless stuff each month.'"
      ]
     },
     "execution_count": 12,
     "metadata": {},
     "output_type": "execute_result"
    }
   ],
   "source": [
    "# Display the first article 'headline'\n",
    "articles_df.headline[0]"
   ]
  },
  {
   "cell_type": "code",
   "execution_count": 13,
   "id": "a9c678b0-4acc-461d-baa1-c51c419e5a54",
   "metadata": {},
   "outputs": [
    {
     "data": {
      "text/plain": [
       "\" If you're a photographer, keep all the necessary lens, cords, and batteries in the same quadrant of your home or studio. Paints should be kept with brushes, cleaner, and canvas, print supplies should be by the ink, etc. Make broader groups and areas for your supplies to make finding them easier, limiting your search to a much smaller area. Some ideas include:\\n\\n\\nEssential supplies area -- the things you use every day.\\nInspiration and reference area.\\nDedicated work area .\\nInfrequent or secondary supplies area, tucked out of the way.;\\n, This doesn't mean cleaning the entire studio, it just means keeping the area immediately around the desk, easel, pottery wheel, etc. clean each night. Discard trash or unnecessary materials and wipe down dirty surfaces. Endeavor to leave the workspace in a way that you can sit down the next day and start working immediately, without having to do any work or tidying.\\n\\n\\nEven if the rest of your studio is a bit disorganized, an organized workspace will help you get down to business every time you want to make art.\\n\\n, As visual people, a lot of artist clutter comes from a desire to keep track of supplies visually instead of tucked out of sight. By using jars, old glasses, vases, and cheap, clear plastic drawers, you can keep things in sight without leaving it strewn about haphazardly. Some ideas, beyond those just mentioned, include:\\n\\n\\nCanvas shoe racks on the back of the door\\nWine racks with cups in each slot to hold pens/pencils.\\nPlastic restaurant squirt bottles for paint, pigment, etc., Simply string up the wires across a wall or along the ceiling and use them to hold essential papers that you don't want to cut or ruin with tacks or tape. Cheap and easy, this is also a good way to handle papers and ideas you touch regularly or need to pin up and down for inspiration., Shelving is an artist's best friend and is a cheap and easy way to get more room in your studio or art space. Don't be afraid to get up high either, especially for infrequently used supplies. The upper reaches of the room are often the most under-utilized, but provide vital space for all your tools and materials., Turning one wall into a chalkboard gives you a perfect space for ideas, sketches, and planning without requiring extra equipment or space. You can even use it for smaller areas. Paint over jars or storage equipment, allowing you to relabel them with chalk as your needs change.\\n\\n, A lot of disorganization comes when you keep moving the location of things, trying to optimize your space by reorganizing frequently. This usually has the opposite effect, leading to lost items and uncertainty when cleaning, but an afternoon with a label maker can solve everything. Instead of spending all of your mental energy looking for or storing things, you can just follow the labels, freeing your mind to think about art., Once a month, do a purge of your studio. If it isn't essential or part of a project, either throw it out or file it away for later. Artists are constantly making new things, experimenting, and making a mess. This is a good thing, but only if you set aside time to declutter. It may not be fun at the moment, but it is a lot more fun than spending 30 minutes digging through junk to find the right paint or an old sketch.\\n\\n\\nDon't be sentimental here. If you haven't used it in the last six months there is little chance you'll use it in the next six months. Toss it.\\n\\n\""
      ]
     },
     "execution_count": 13,
     "metadata": {},
     "output_type": "execute_result"
    }
   ],
   "source": [
    "# Display the first article 'text'\n",
    "articles_df.text[0]"
   ]
  },
  {
   "cell_type": "markdown",
   "id": "fa6bec1a-a1ca-4a7a-aeee-2734c4c7cb4e",
   "metadata": {},
   "source": [
    "<b>Result</b>: There are 215,364 articles in the DataFrame. All the data is text and there is no missing data.\n",
    "\n",
    "The 'headline' provides a summary of each step that is detailed in the article 'text'. The article 'text' is ideal for summarization and comparison with the article 'headline'."
   ]
  },
  {
   "cell_type": "markdown",
   "id": "56c2b198-4ed9-440e-aa1e-26194f5535fb",
   "metadata": {},
   "source": [
    "## Apply NLP Techniques"
   ]
  },
  {
   "cell_type": "markdown",
   "id": "648558ac-4bf8-4230-856c-c28428d99d0c",
   "metadata": {},
   "source": [
    "### Part 1: Gensim and Topic Modeling"
   ]
  },
  {
   "cell_type": "markdown",
   "id": "09489f64-ca73-490b-965b-3b50a69b305c",
   "metadata": {},
   "source": [
    "The Gensim library can be used to analyze the ‘text’ column in order perform  the following:\n",
    "\n",
    "* tokenization (create tokens from the individual words)\n",
    "* create a dictionary from the tokens\n",
    "* create a Bag of Words (BOW) representation\n",
    "* use Latent Dirichlet Allocation (LDA) for topic modeling.\n"
   ]
  },
  {
   "cell_type": "code",
   "execution_count": 14,
   "id": "87682c7f-15e2-4c5a-be01-a33e29678a14",
   "metadata": {},
   "outputs": [],
   "source": [
    "# Define the stopwords and punctuation\n",
    "stop_words = set(stopwords.words('english'))\n",
    "punctuation = set(string.punctuation)\n",
    "\n",
    "# Define the input string as the text from the first article\n",
    "input_string = articles_df.at[0, 'text']\n",
    "\n",
    "# Tokenize the input string into lower case words\n",
    "words = word_tokenize(input_string.lower())\n",
    "\n",
    "# Remove stopwords and punctuation\n",
    "filtered_words = [word for word in words if word not in stop_words and word not in punctuation]\n"
   ]
  },
  {
   "cell_type": "markdown",
   "id": "e2f06cb7-dbfc-4adb-b532-bdac843f4a86",
   "metadata": {},
   "source": [
    "#### Create a Gensim Dictionary"
   ]
  },
  {
   "cell_type": "code",
   "execution_count": 15,
   "id": "d0993922-344b-4629-a6b9-0b53e102109f",
   "metadata": {},
   "outputs": [],
   "source": [
    "# Create a Gensim dictionary from filtered_words\n",
    "dictionary = corpora.Dictionary([filtered_words])\n",
    "\n",
    "# Convert the filtered_words into Python list of tokens for doc2bow\n",
    "filtered_tokens = [filtered_words]\n"
   ]
  },
  {
   "cell_type": "markdown",
   "id": "7e439444-b8ee-4921-a4fe-873874fd6fca",
   "metadata": {},
   "source": [
    "#### Create a Gensim corpus using Bag of Words (BOW)"
   ]
  },
  {
   "cell_type": "code",
   "execution_count": 16,
   "id": "64a920b4-e957-40ce-b82d-2866fe344be5",
   "metadata": {},
   "outputs": [
    {
     "name": "stdout",
     "output_type": "stream",
     "text": [
      "Tokens and their IDs:\n",
      "{\"'ll\": 0, \"'re\": 1, \"'s\": 2, '--': 3, '30': 4, 'across': 5, 'afraid': 6, 'afternoon': 7, 'allowing': 8, 'along': 9, 'also': 10, 'area': 11, 'areas': 12, 'around': 13, 'art': 14, 'art.': 15, 'artist': 16, 'artists': 17, 'aside': 18, 'away': 19, 'back': 20, 'batteries': 21, 'best': 22, 'beyond': 23, 'bit': 24, 'bottles': 25, 'broader': 26, 'brushes': 27, 'business': 28, 'canvas': 29, 'ceiling': 30, 'chalk': 31, 'chalkboard': 32, 'chance': 33, 'change': 34, 'cheap': 35, 'clean': 36, 'cleaner': 37, 'cleaning': 38, 'clear': 39, 'clutter': 40, 'comes': 41, 'constantly': 42, 'cords': 43, 'cups': 44, 'cut': 45, 'day': 46, 'declutter': 47, 'dedicated': 48, 'desire': 49, 'desk': 50, 'digging': 51, 'dirty': 52, 'discard': 53, 'disorganization': 54, 'disorganized': 55, 'door': 56, 'drawers': 57, 'easel': 58, 'easier': 59, 'easy': 60, 'effect': 61, 'either': 62, 'endeavor': 63, 'energy': 64, 'entire': 65, 'equipment': 66, 'especially': 67, 'essential': 68, 'etc': 69, 'etc.': 70, 'even': 71, 'every': 72, 'everything': 73, 'experimenting': 74, 'extra': 75, 'file': 76, 'find': 77, 'finding': 78, 'follow': 79, 'freeing': 80, 'frequently': 81, 'friend': 82, 'fun': 83, 'get': 84, 'gives': 85, 'glasses': 86, 'good': 87, 'groups': 88, 'handle': 89, 'haphazardly': 90, 'help': 91, 'high': 92, 'hold': 93, 'home': 94, 'ideas': 95, 'immediately': 96, 'include': 97, 'infrequent': 98, 'infrequently': 99, 'ink': 100, 'inspiration': 101, 'inspiration.': 102, 'instead': 103, 'items': 104, 'jars': 105, 'junk': 106, 'keep': 107, 'keeping': 108, 'kept': 109, 'label': 110, 'labels': 111, 'last': 112, 'later': 113, 'leading': 114, 'leave': 115, 'leaving': 116, 'lens': 117, 'limiting': 118, 'little': 119, 'location': 120, 'looking': 121, 'lost': 122, 'lot': 123, 'make': 124, 'maker': 125, 'making': 126, 'materials': 127, 'materials.': 128, 'may': 129, 'mean': 130, 'means': 131, 'mental': 132, 'mentioned': 133, 'mess': 134, 'mind': 135, 'minutes': 136, 'moment': 137, 'month': 138, 'months': 139, 'moving': 140, 'much': 141, \"n't\": 142, 'necessary': 143, 'need': 144, 'needs': 145, 'new': 146, 'next': 147, 'night': 148, 'often': 149, 'old': 150, 'one': 151, 'opposite': 152, 'optimize': 153, 'organized': 154, 'paint': 155, 'paints': 156, 'papers': 157, 'part': 158, 'pens/pencils': 159, 'people': 160, 'perfect': 161, 'photographer': 162, 'pigment': 163, 'pin': 164, 'planning': 165, 'plastic': 166, 'pottery': 167, 'print': 168, 'project': 169, 'provide': 170, 'purge': 171, 'quadrant': 172, 'racks': 173, 'reaches': 174, 'reference': 175, 'regularly': 176, 'relabel': 177, 'reorganizing': 178, 'requiring': 179, 'rest': 180, 'restaurant': 181, 'right': 182, 'room': 183, 'ruin': 184, 'search': 185, 'secondary': 186, 'sentimental': 187, 'set': 188, 'shelving': 189, 'shoe': 190, 'sight': 191, 'simply': 192, 'sit': 193, 'six': 194, 'sketch': 195, 'sketches': 196, 'slot': 197, 'smaller': 198, 'solve': 199, 'space': 200, 'spending': 201, 'squirt': 202, 'start': 203, 'storage': 204, 'storing': 205, 'strewn': 206, 'string': 207, 'studio': 208, 'supplies': 209, 'surfaces': 210, 'tacks': 211, 'tape': 212, 'thing': 213, 'things': 214, 'think': 215, 'throw': 216, 'tidying': 217, 'time': 218, 'tools': 219, 'toss': 220, 'touch': 221, 'track': 222, 'trash': 223, 'trying': 224, 'tucked': 225, 'turning': 226, 'uncertainty': 227, 'under-utilized': 228, 'unnecessary': 229, 'upper': 230, 'use': 231, 'used': 232, 'using': 233, 'usually': 234, 'vases': 235, 'visual': 236, 'visually': 237, 'vital': 238, 'wall': 239, 'want': 240, 'way': 241, 'wheel': 242, 'wine': 243, 'wipe': 244, 'wires': 245, 'without': 246, 'work': 247, 'working': 248, 'workspace': 249}\n"
     ]
    }
   ],
   "source": [
    "# Create the Gensim corpus using Bag of Words (BOW)\n",
    "corpus = [dictionary.doc2bow(tokens) for tokens in filtered_tokens]\n",
    "\n",
    "# Print the tokens and their IDs in the dictionary\n",
    "print(\"Tokens and their IDs:\")\n",
    "print(dictionary.token2id)"
   ]
  },
  {
   "cell_type": "markdown",
   "id": "947dc1d8-ed43-44be-b5d7-464e7b498e27",
   "metadata": {},
   "source": [
    "#### Create a Latent Dirichlet Allocation (LDA) Model for Topic Modeling"
   ]
  },
  {
   "cell_type": "code",
   "execution_count": 17,
   "id": "3236a7be-94d6-4fbd-bbee-8b1206bf49ec",
   "metadata": {},
   "outputs": [],
   "source": [
    "# Create the LDA model for topic modeling\n",
    "lda_model = models.LdaModel(corpus, num_topics=1, id2word=dictionary, passes=15)"
   ]
  },
  {
   "cell_type": "code",
   "execution_count": 18,
   "id": "f2391c12-9bb7-4726-aa74-80e367903647",
   "metadata": {},
   "outputs": [
    {
     "name": "stdout",
     "output_type": "stream",
     "text": [
      "Topic: 0 \n",
      "Words: 0.012*\"n't\" + 0.012*\"area\" + 0.012*\"supplies\" + 0.010*\"space\" + 0.010*\"studio\" + 0.010*\"things\" + 0.008*\"keep\" + 0.008*\"use\" + 0.008*\"ideas\" + 0.008*\"way\"\n",
      "\n"
     ]
    }
   ],
   "source": [
    "# Display the LDA topics\n",
    "for idx, topic in lda_model.print_topics(-1):\n",
    "    print(f'Topic: {idx} \\nWords: {topic}\\n')"
   ]
  },
  {
   "cell_type": "markdown",
   "id": "47f8cfc0-59de-496b-a547-1c877ebcef50",
   "metadata": {},
   "source": [
    "#### Compare to the LDA topics to human-generated subject headlines"
   ]
  },
  {
   "cell_type": "code",
   "execution_count": 19,
   "id": "7bc25060-1c5c-46c3-a219-d44695472179",
   "metadata": {},
   "outputs": [
    {
     "data": {
      "text/plain": [
       "'\\nKeep related supplies in the same area.,\\nMake an effort to clean a dedicated workspace after every session.,\\nPlace loose supplies in large, clearly visible containers.,\\nUse clotheslines and clips to hang sketches, photos, and reference material.,\\nUse every inch of the room for storage, especially vertical space.,\\nUse chalkboard paint to make space for drafting ideas right on the walls.,\\nPurchase a label maker to make your organization strategy semi-permanent.,\\nMake a habit of throwing out old, excess, or useless stuff each month.'"
      ]
     },
     "execution_count": 19,
     "metadata": {},
     "output_type": "execute_result"
    }
   ],
   "source": [
    "# Print the article headline\n",
    "articles_df['headline'][0]"
   ]
  },
  {
   "cell_type": "markdown",
   "id": "07fff01e-37a9-48f4-8fab-0474ae8eb8d3",
   "metadata": {},
   "source": [
    "<b>Result Interpretation</b>: Many of the words from the LDA model of the text body appear in the human-generated article headline (‘supplies’, ‘area’, ‘space’, ‘ideas’)."
   ]
  },
  {
   "cell_type": "markdown",
   "id": "99b281bf-1168-48b9-9bfc-f3d013ec2e06",
   "metadata": {},
   "source": [
    "### Part 2: Named Entity Recognition (NER) to View Entities"
   ]
  },
  {
   "cell_type": "markdown",
   "id": "11c1732b-bc7a-4516-bb96-231fef4de56c",
   "metadata": {},
   "source": [
    "The purpose of Named Entity Recognition (NER) is to identify named entities in a body of text, such as:\n",
    "\n",
    "* Organizations\n",
    "* Dates\n",
    "* Locations\n",
    "* People\n",
    "  \n",
    "This section will compare the NER results visually using spaCy for article text with the section headlines visually to see the similarities between the two.\n"
   ]
  },
  {
   "cell_type": "markdown",
   "id": "aa9fb88d-8421-4bb3-8ff4-241b7ecfde6e",
   "metadata": {},
   "source": [
    "#### Prepare spaCy and load the text"
   ]
  },
  {
   "cell_type": "code",
   "execution_count": 20,
   "id": "9f0d8ad8-d247-4a57-9a23-80d81d09ddda",
   "metadata": {},
   "outputs": [],
   "source": [
    "# Configure the spaCy library for text rendering\n",
    "nlp = spacy.load('en_core_web_sm')"
   ]
  },
  {
   "cell_type": "code",
   "execution_count": 21,
   "id": "c22fb0a2-6ee4-434c-99cf-71c012acf2d6",
   "metadata": {},
   "outputs": [
    {
     "data": {
      "text/html": [
       "<span class=\"tex2jax_ignore\"><div class=\"entities\" style=\"line-height: 2.5; direction: ltr\"> If you're a photographer, keep all the necessary lens, cords, and batteries in the same quadrant of your home or studio. Paints should be kept with brushes, cleaner, and canvas, print supplies should be by the ink, etc. Make broader groups and areas for your supplies to make finding them easier, limiting your search to a much smaller area. Some ideas include:<br><br><br>Essential supplies area -- the things you use \n",
       "<mark class=\"entity\" style=\"background: #bfe1d9; padding: 0.45em 0.6em; margin: 0 0.25em; line-height: 1; border-radius: 0.35em;\">\n",
       "    every day\n",
       "    <span style=\"font-size: 0.8em; font-weight: bold; line-height: 1; border-radius: 0.35em; vertical-align: middle; margin-left: 0.5rem\">DATE</span>\n",
       "</mark>\n",
       ".<br>Inspiration and reference area.<br>Dedicated work area .<br>Infrequent or secondary supplies area, tucked out of the way.;<br>, This doesn't mean cleaning the entire studio, it just means keeping the area immediately around the desk, easel, pottery wheel, etc. clean \n",
       "<mark class=\"entity\" style=\"background: #bfe1d9; padding: 0.45em 0.6em; margin: 0 0.25em; line-height: 1; border-radius: 0.35em;\">\n",
       "    each night\n",
       "    <span style=\"font-size: 0.8em; font-weight: bold; line-height: 1; border-radius: 0.35em; vertical-align: middle; margin-left: 0.5rem\">TIME</span>\n",
       "</mark>\n",
       ". \n",
       "<mark class=\"entity\" style=\"background: #aa9cfc; padding: 0.45em 0.6em; margin: 0 0.25em; line-height: 1; border-radius: 0.35em;\">\n",
       "    Discard\n",
       "    <span style=\"font-size: 0.8em; font-weight: bold; line-height: 1; border-radius: 0.35em; vertical-align: middle; margin-left: 0.5rem\">PERSON</span>\n",
       "</mark>\n",
       " trash or unnecessary materials and wipe down dirty surfaces. Endeavor to leave the workspace in a way that you can sit down \n",
       "<mark class=\"entity\" style=\"background: #bfe1d9; padding: 0.45em 0.6em; margin: 0 0.25em; line-height: 1; border-radius: 0.35em;\">\n",
       "    the next day\n",
       "    <span style=\"font-size: 0.8em; font-weight: bold; line-height: 1; border-radius: 0.35em; vertical-align: middle; margin-left: 0.5rem\">DATE</span>\n",
       "</mark>\n",
       " and start working immediately, without having to do any work or tidying.<br><br><br>Even if the rest of your studio is a bit disorganized, an organized workspace will help you get down to business every time you want to make art.<br><br>, As visual people, a lot of artist clutter comes from a desire to keep track of supplies visually instead of tucked out of sight. By using jars, old glasses, vases, and cheap, clear plastic drawers, you can keep things in sight without leaving it strewn about haphazardly. Some ideas, beyond those just mentioned, include:<br><br><br>\n",
       "<mark class=\"entity\" style=\"background: #bfeeb7; padding: 0.45em 0.6em; margin: 0 0.25em; line-height: 1; border-radius: 0.35em;\">\n",
       "    Canvas\n",
       "    <span style=\"font-size: 0.8em; font-weight: bold; line-height: 1; border-radius: 0.35em; vertical-align: middle; margin-left: 0.5rem\">PRODUCT</span>\n",
       "</mark>\n",
       " shoe racks on the back of the door<br>Wine racks with cups in each slot to hold pens/pencils.<br>Plastic restaurant squirt bottles for paint, pigment, etc., Simply string up the wires across a wall or along the ceiling and use them to hold essential papers that you don't want to cut or ruin with tacks or tape. Cheap and easy, this is also a good way to handle papers and ideas you touch regularly or need to pin up and down for inspiration., Shelving is an artist's best friend and is a cheap and easy way to get more room in your studio or art space. Don't be afraid to get up high either, especially for infrequently used supplies. The upper reaches of the room are often the most under-utilized, but provide vital space for all your tools and materials., Turning \n",
       "<mark class=\"entity\" style=\"background: #e4e7d2; padding: 0.45em 0.6em; margin: 0 0.25em; line-height: 1; border-radius: 0.35em;\">\n",
       "    one\n",
       "    <span style=\"font-size: 0.8em; font-weight: bold; line-height: 1; border-radius: 0.35em; vertical-align: middle; margin-left: 0.5rem\">CARDINAL</span>\n",
       "</mark>\n",
       " wall into a chalkboard gives you a perfect space for ideas, sketches, and planning without requiring extra equipment or space. You can even use it for smaller areas. Paint over jars or storage equipment, allowing you to relabel them with chalk as your needs change.<br><br>, A lot of disorganization comes when you keep moving the location of things, trying to optimize your space by reorganizing frequently. This usually has the opposite effect, leading to lost items and uncertainty when cleaning, but \n",
       "<mark class=\"entity\" style=\"background: #bfe1d9; padding: 0.45em 0.6em; margin: 0 0.25em; line-height: 1; border-radius: 0.35em;\">\n",
       "    an afternoon\n",
       "    <span style=\"font-size: 0.8em; font-weight: bold; line-height: 1; border-radius: 0.35em; vertical-align: middle; margin-left: 0.5rem\">TIME</span>\n",
       "</mark>\n",
       " with a label maker can solve everything. Instead of spending all of your mental energy looking for or storing things, you can just follow the labels, freeing your mind to think about art., Once a month, do a purge of your studio. If it isn't essential or part of a project, either throw it out or file it away for later. Artists are constantly making new things, experimenting, and making a mess. This is a good thing, but only if you set aside time to declutter. It may not be fun at the moment, but it is a lot more fun than spending \n",
       "<mark class=\"entity\" style=\"background: #bfe1d9; padding: 0.45em 0.6em; margin: 0 0.25em; line-height: 1; border-radius: 0.35em;\">\n",
       "    30 minutes\n",
       "    <span style=\"font-size: 0.8em; font-weight: bold; line-height: 1; border-radius: 0.35em; vertical-align: middle; margin-left: 0.5rem\">TIME</span>\n",
       "</mark>\n",
       " digging through junk to find the right paint or an old sketch.<br><br><br>Don't be sentimental here. If you haven't used it in \n",
       "<mark class=\"entity\" style=\"background: #bfe1d9; padding: 0.45em 0.6em; margin: 0 0.25em; line-height: 1; border-radius: 0.35em;\">\n",
       "    the last six months\n",
       "    <span style=\"font-size: 0.8em; font-weight: bold; line-height: 1; border-radius: 0.35em; vertical-align: middle; margin-left: 0.5rem\">DATE</span>\n",
       "</mark>\n",
       " there is little chance you'll use it in \n",
       "<mark class=\"entity\" style=\"background: #bfe1d9; padding: 0.45em 0.6em; margin: 0 0.25em; line-height: 1; border-radius: 0.35em;\">\n",
       "    the next six months\n",
       "    <span style=\"font-size: 0.8em; font-weight: bold; line-height: 1; border-radius: 0.35em; vertical-align: middle; margin-left: 0.5rem\">DATE</span>\n",
       "</mark>\n",
       ". Toss it.<br><br></div></span>"
      ],
      "text/plain": [
       "<IPython.core.display.HTML object>"
      ]
     },
     "metadata": {},
     "output_type": "display_data"
    }
   ],
   "source": [
    "# Load the first article 'text' and process it for spaCy\n",
    "doc_text = nlp(articles_df.at[0, 'text'])\n",
    "\n",
    "# Render the output text with named entities highlighted\n",
    "displacy.render(doc_text, style='ent', jupyter=True)\n"
   ]
  },
  {
   "cell_type": "code",
   "execution_count": 22,
   "id": "69fd8d33-a95f-4b0d-a8c0-b65b876b125d",
   "metadata": {},
   "outputs": [
    {
     "data": {
      "text/html": [
       "<span class=\"tex2jax_ignore\"><div class=\"entities\" style=\"line-height: 2.5; direction: ltr\"><br>Keep related supplies in the same area.,<br>Make an effort to clean a dedicated workspace after every session.,<br>Place loose supplies in large, clearly visible containers.,<br>Use clotheslines and clips to hang sketches, photos, and reference material.,<br>Use every inch of the room for storage, especially vertical space.,<br>Use chalkboard paint to make space for drafting ideas right on the walls.,<br>\n",
       "<mark class=\"entity\" style=\"background: #aa9cfc; padding: 0.45em 0.6em; margin: 0 0.25em; line-height: 1; border-radius: 0.35em;\">\n",
       "    Purchase\n",
       "    <span style=\"font-size: 0.8em; font-weight: bold; line-height: 1; border-radius: 0.35em; vertical-align: middle; margin-left: 0.5rem\">PERSON</span>\n",
       "</mark>\n",
       " a label maker to make your organization strategy semi-permanent.,<br>Make a habit of throwing out old, excess, or useless stuff \n",
       "<mark class=\"entity\" style=\"background: #bfe1d9; padding: 0.45em 0.6em; margin: 0 0.25em; line-height: 1; border-radius: 0.35em;\">\n",
       "    each month\n",
       "    <span style=\"font-size: 0.8em; font-weight: bold; line-height: 1; border-radius: 0.35em; vertical-align: middle; margin-left: 0.5rem\">DATE</span>\n",
       "</mark>\n",
       ".</div></span>"
      ],
      "text/plain": [
       "<IPython.core.display.HTML object>"
      ]
     },
     "metadata": {},
     "output_type": "display_data"
    }
   ],
   "source": [
    "# Load the first article 'headline' and process it for spaCy\n",
    "doc_text = nlp(articles_df.at[0, 'headline'])\n",
    "\n",
    "# Render the output text with named entities highlighted\n",
    "displacy.render(doc_text, style='ent', jupyter=True)"
   ]
  },
  {
   "cell_type": "markdown",
   "id": "41ca4ffb-0d56-468e-ad20-4f1aa3a697fe",
   "metadata": {},
   "source": [
    "<b>Result Interpretation</b>: NER tagging was not helpful in comparing the contents of the article text with the article summary headlines. The article headlines were too general and did not contain specific information related to the article text to associate meaning between the two."
   ]
  },
  {
   "cell_type": "markdown",
   "id": "7eebd33b-84dd-4f62-8de1-0fbf8ccb4404",
   "metadata": {},
   "source": [
    "### Part 3: Hugging Face Transformers and Text Summarization"
   ]
  },
  {
   "cell_type": "markdown",
   "id": "a3ccd0c3-12ef-4628-8383-c732757705ea",
   "metadata": {},
   "source": [
    "Hugging Face is an Python library for a type of deep learning models called transformers that can be used for tokenization and text summarization.\n",
    "\n",
    "Hugging Face provides:\n",
    "\n",
    "* A wide selection of pre-trained models\n",
    "* The transformers library, a series of APIs to work with text\n",
    "* Tokenizers to break up large bodies of text into single words\n",
    "* Pipelines to process text without writing substantial code"
   ]
  },
  {
   "cell_type": "markdown",
   "id": "4e9398e7-81b8-4dc5-80e4-afae8d67743b",
   "metadata": {},
   "source": [
    "#### Create a text classification pipeline using a pre-trained model"
   ]
  },
  {
   "cell_type": "code",
   "execution_count": 23,
   "id": "9c0a498c-023b-43d5-8b29-798adc6c5283",
   "metadata": {},
   "outputs": [],
   "source": [
    "# Use the first article 'text' to be summarized\n",
    "text = articles_df.at[0, 'text']"
   ]
  },
  {
   "cell_type": "markdown",
   "id": "e75a50f3-cc86-40b9-9881-a89aa6da2093",
   "metadata": {},
   "source": [
    "#### Create the text summarization pipeline using the t5-base (Text-To-Text Transfer Transformer) pre-trained model"
   ]
  },
  {
   "cell_type": "code",
   "execution_count": 24,
   "id": "30612c05-4316-4a3d-8b9a-b76e1a6e0f12",
   "metadata": {},
   "outputs": [
    {
     "name": "stderr",
     "output_type": "stream",
     "text": [
      "All PyTorch model weights were used when initializing TFT5ForConditionalGeneration.\n",
      "\n",
      "All the weights of TFT5ForConditionalGeneration were initialized from the PyTorch model.\n",
      "If your task is similar to the task the model of the checkpoint was trained on, you can already use TFT5ForConditionalGeneration for predictions without further training.\n"
     ]
    }
   ],
   "source": [
    "# Create the summarization pipline\n",
    "nlp = pipeline(task='summarization', model='t5-base')"
   ]
  },
  {
   "cell_type": "markdown",
   "id": "6ce219de-d641-4ac1-a59a-370824455272",
   "metadata": {},
   "source": [
    "#### Perform the text summarization of the input text"
   ]
  },
  {
   "cell_type": "code",
   "execution_count": 25,
   "id": "b7e4813f-66a0-4ba4-85b1-1f4fb5be0993",
   "metadata": {},
   "outputs": [
    {
     "name": "stderr",
     "output_type": "stream",
     "text": [
      "Token indices sequence length is longer than the specified maximum sequence length for this model (813 > 512). Running this sequence through the model will result in indexing errors\n"
     ]
    },
    {
     "data": {
      "text/plain": [
       "\"if you're a photographer, keep all the necessary supplies in the same quadrant of your home or studio . make broader groups and areas for your supplies to make finding them easier . an organized workspace will help you get down to business every time you want to make art .\""
      ]
     },
     "execution_count": 25,
     "metadata": {},
     "output_type": "execute_result"
    }
   ],
   "source": [
    "# Text summarization with a max length of 100 characters and a min length of 30 characters\n",
    "summarized_text = nlp(text, max_length=100, min_length=30)\n",
    "\n",
    "# Print the summarized text\n",
    "summarized_text[0]['summary_text']"
   ]
  },
  {
   "cell_type": "code",
   "execution_count": 26,
   "id": "ac67cc38-13a6-46be-be61-20833ef65076",
   "metadata": {},
   "outputs": [
    {
     "name": "stdout",
     "output_type": "stream",
     "text": [
      "Length of original text: 3425\n",
      "Length of summary text: 273\n",
      "Length of human-generated article headline: 536\n"
     ]
    }
   ],
   "source": [
    "# Print the length of the original text and summary text\n",
    "print(f\"Length of original text: {len(text)}\")\n",
    "print(f\"Length of summary text: {len(summarized_text[0]['summary_text'])}\")\n",
    "print(f\"Length of human-generated article headline: {len(articles_df.at[0, 'headline'])}\")"
   ]
  },
  {
   "cell_type": "markdown",
   "id": "88cce8fd-842c-4a8d-bdc4-7bec00aab3f9",
   "metadata": {},
   "source": [
    "<b>Result Interpretation</b>: Note that the original input text length was 3,425 characters, and the summary text was only 329 charactes. The generated summary was actually shorter than the human-generated article headline summaries (536 characters).\n",
    "\n",
    "Hugging Face did an excellent job of text summariztion. Note that the generic model t5-base was used. Other models are available, such as BART and GPT."
   ]
  },
  {
   "cell_type": "markdown",
   "id": "d1d8e13c-e100-48fa-9f1c-fb7a637bb426",
   "metadata": {},
   "source": [
    "### Part 4: Word2Vec and Semantic Analysis"
   ]
  },
  {
   "cell_type": "markdown",
   "id": "5913fbfb-38db-4bc1-9b54-831537cb57cb",
   "metadata": {},
   "source": [
    "<b>Goal</b>: Word2Vec will learn representations based on the context on how the words are used. Word2Vec provides the ability to predice a word based on its surrounding words. The prediction works because words of similar meaning are often surrounded by the same words.\n",
    "\n",
    "Word2Vec offers:\n",
    "* Word embeddings to represent each word uniquely as a high-dimensional vector\n",
    "* Vector spaces, where words with similar meanings are located close to each other\n",
    "* Semantic relationships that can be applied to words that are closely related"
   ]
  },
  {
   "cell_type": "markdown",
   "id": "3747c50e-52a3-4491-aea2-13a6b383d61d",
   "metadata": {},
   "source": [
    "#### Build the Word2Vec model"
   ]
  },
  {
   "cell_type": "code",
   "execution_count": 27,
   "id": "9631d13a-158c-428d-9c94-5e34a2022ed7",
   "metadata": {},
   "outputs": [
    {
     "name": "stderr",
     "output_type": "stream",
     "text": [
      "100%|██████████████████████████████████████████████████████████████████████| 215365/215365 [00:00<00:00, 858772.08it/s]\n"
     ]
    }
   ],
   "source": [
    "# Capture the article titles\n",
    "titles = []\n",
    "\n",
    "# Populate the list of article titles\n",
    "for title in tqdm(articles_df['title']):\n",
    "    titles.append(title)"
   ]
  },
  {
   "cell_type": "code",
   "execution_count": 28,
   "id": "d33d7024-d3a0-4b32-ae30-aeb12afa2540",
   "metadata": {},
   "outputs": [],
   "source": [
    "# Tokenize titles into words\n",
    "tokenized_titles = []\n",
    "for title in titles:\n",
    "    try:\n",
    "        tokens = word_tokenize(title.lower())\n",
    "    except:\n",
    "        tokens = ' '\n",
    "    tokenized_titles.append(tokens)"
   ]
  },
  {
   "cell_type": "code",
   "execution_count": 29,
   "id": "fc67632b-8fde-495c-a470-e1d113de0982",
   "metadata": {},
   "outputs": [],
   "source": [
    "# Create the Word2Vec model\n",
    "model = Word2Vec(window=10,          # The max distance between the current word and predicted word\n",
    "                 sg=1,               # The Skip-gram model used\n",
    "                 hs=0,               # \"Hierarchical Softmax\". When hs=0, negative sampling is used instead of hierarchical softmax.\n",
    "                 negative=10,        # Number of negative samples for each target word during training.\n",
    "                 alpha=0.03,         # Starting value used to control the learning rate\n",
    "                 min_alpha=0.0007,   # Final value used to control the learning rate\n",
    "                 seed=4)             # Defines the random seed for reproducibility."
   ]
  },
  {
   "cell_type": "code",
   "execution_count": 30,
   "id": "5e390e83-1adf-420e-b2be-134a2ef0dc1f",
   "metadata": {},
   "outputs": [],
   "source": [
    "# Build the Word2Vec model vocabulary\n",
    "model.build_vocab(tokenized_titles,      # Contains a list of sentences or tokenized text from your corpus.\n",
    "                  progress_per=200)            # How often progress information should be displayed while building the vocabulary\n"
   ]
  },
  {
   "cell_type": "code",
   "execution_count": 31,
   "id": "6b68a908-7ad6-41b2-8de0-9ce0de51a8c0",
   "metadata": {},
   "outputs": [
    {
     "data": {
      "text/plain": [
       "(8583470, 15324760)"
      ]
     },
     "execution_count": 31,
     "metadata": {},
     "output_type": "execute_result"
    }
   ],
   "source": [
    "# Train the model\n",
    "model.train(tokenized_titles, total_examples=model.corpus_count, epochs=10, report_delay=1)"
   ]
  },
  {
   "cell_type": "markdown",
   "id": "0271619e-de37-4b8a-8fef-6149a707dd22",
   "metadata": {},
   "source": [
    "#### Investigate the Word2Vec model"
   ]
  },
  {
   "cell_type": "code",
   "execution_count": 32,
   "id": "4bda184d-015d-40b7-86cb-8a1e1d619270",
   "metadata": {},
   "outputs": [
    {
     "name": "stdout",
     "output_type": "stream",
     "text": [
      "Word2Vec<vocab=17116, vector_size=100, alpha=0.03>\n"
     ]
    }
   ],
   "source": [
    "# Print the model parameters\n",
    "print(model)"
   ]
  },
  {
   "cell_type": "code",
   "execution_count": 33,
   "id": "d4037eed-cd0b-4590-9f00-bc227924aad9",
   "metadata": {},
   "outputs": [
    {
     "name": "stdout",
     "output_type": "stream",
     "text": [
      "Shape of X: 17116 words x 100 dimensions\n"
     ]
    }
   ],
   "source": [
    "# Display the information about the word vectors\n",
    "X = model.wv[model.wv.key_to_index]\n",
    "print(f\"Shape of X: {len(X)} words x {len(X[0])} dimensions\")"
   ]
  },
  {
   "cell_type": "markdown",
   "id": "cb7fb5f5-d1c7-4a68-acc9-afcbcff23be7",
   "metadata": {},
   "source": [
    "<b>Result</b>: The vocabulary of the article titles has 17,116 words in 100 dimensions."
   ]
  },
  {
   "cell_type": "markdown",
   "id": "c320d15e-5a13-420a-b25c-99c6210f6a73",
   "metadata": {},
   "source": [
    "#### Visualize the Word2Vec Embeddings"
   ]
  },
  {
   "cell_type": "code",
   "execution_count": 34,
   "id": "9fba720e-e9b1-4501-9d1f-fb23a0d8b552",
   "metadata": {},
   "outputs": [
    {
     "data": {
      "text/plain": [
       "Text(11.722657, 4.798214, 'How to Be an Organized Artist3')"
      ]
     },
     "execution_count": 34,
     "metadata": {},
     "output_type": "execute_result"
    },
    {
     "data": {
      "image/png": "[encoded data removed]",
      "text/plain": [
       "<Figure size 1000x900 with 1 Axes>"
      ]
     },
     "metadata": {},
     "output_type": "display_data"
    }
   ],
   "source": [
    "# Calculate cluster_embedding\n",
    "cluster_embedding = umap.UMAP(n_neighbors=30, min_dist=0.0, n_components=2, random_state=42).fit_transform(X)\n",
    "\n",
    "# Create the scatter plot of the cluster embedding\n",
    "plt.figure(figsize=(10, 9))\n",
    "plt.scatter(cluster_embedding[:, 0], cluster_embedding[:, 1], s=3, cmap='Spectral')\n",
    "\n",
    "# Add a label to the plot\n",
    "plt.annotate(articles_df['title'][4], (cluster_embedding[4, 0], cluster_embedding[4, 1]))\n",
    "plt.annotate(articles_df['title'][5], (cluster_embedding[5, 0], cluster_embedding[5, 1]))"
   ]
  },
  {
   "cell_type": "code",
   "execution_count": 35,
   "id": "de65c0b0-f023-4aff-b4ce-dc57fd3ee92e",
   "metadata": {},
   "outputs": [
    {
     "name": "stdout",
     "output_type": "stream",
     "text": [
      "How to Be an Organized Artist2\n",
      "How to Be an Organized Artist3\n"
     ]
    }
   ],
   "source": [
    "# Display the fourth and fifth article 'title'\n",
    "print(articles_df['title'][4])\n",
    "print(articles_df['title'][5])"
   ]
  },
  {
   "cell_type": "markdown",
   "id": "11edfa8f-ea78-47c4-a4b8-b2522dcdfca2",
   "metadata": {},
   "source": [
    "<b>Plot Interpretation</b>: The plot represents a t-Distributed Stochastic Neighbor Embedding (t-SNE) visualization of the word vectors reduced to two-dimensional space, showing word clusters based on the word vectors created by Word2Vec.\n",
    "\n",
    "Note: Each word is represented by a point on the graph. Words close together have similar meanings in the 100-dimension space. \n",
    "\n",
    "The fourth article title “How to Be an Organized Artist2” and the fifth article title “How to Be an Organized Artist3” are close to each other, separated by the difference between ‘Artist2’ and ‘Artist3’.\n"
   ]
  },
  {
   "cell_type": "markdown",
   "id": "29ef9b38-1733-4ba2-aaa5-03fe81306e33",
   "metadata": {},
   "source": [
    "### Part 5: Non-Negative Matrix Factorization (NMF) for Topic Modeling"
   ]
  },
  {
   "cell_type": "markdown",
   "id": "ee7be7ea-6d65-479c-b051-00f5e1418b95",
   "metadata": {},
   "source": [
    "NMF is an NLP technique for topic modeling and feature extraction. NMF offers:\n",
    "\n",
    "* Unsupervised learning to extract topics from large text documents\n",
    "* Feature extraction and text classification by identifying features that can be removed\n",
    "* Text summarization by identifying the underlying sturcture of a document by finding key terms"
   ]
  },
  {
   "cell_type": "markdown",
   "id": "c21987af-69a8-4f34-8050-ad64e92c7bcb",
   "metadata": {},
   "source": [
    "#### Create the TF-IDF matrix"
   ]
  },
  {
   "cell_type": "code",
   "execution_count": 36,
   "id": "191ed716-af91-4f94-af28-4f7121b12b66",
   "metadata": {},
   "outputs": [],
   "source": [
    "# Replace 'nan' values in the DataFrame with an empty space\n",
    "df = pd.DataFrame(articles_df['title'].fillna(''))\n",
    "df.head(5)\n",
    "\n",
    "# Create the TF-IDF matrix vectorizer\n",
    "vectorizer = TfidfVectorizer(max_df=0.95, min_df=2, stop_words='english')\n",
    "tfidf_matrix = vectorizer.fit_transform(df['title'])"
   ]
  },
  {
   "cell_type": "markdown",
   "id": "aa3ec39a-56a1-4ef6-ab46-d9e98a84293d",
   "metadata": {},
   "source": [
    "#### Use NMF to create the topics and build the model"
   ]
  },
  {
   "cell_type": "code",
   "execution_count": 37,
   "id": "83550c1a-1b13-4802-b99b-a8bb63e6afcb",
   "metadata": {},
   "outputs": [],
   "source": [
    "# Create the number of topics\n",
    "num_topics = 15\n",
    "\n",
    "# Create the model\n",
    "nmf_model = NMF(n_components=num_topics, init='random', random_state=42)\n",
    "\n",
    "# Build the matrix\n",
    "nfm_matrix = nmf_model.fit_transform(tfidf_matrix)"
   ]
  },
  {
   "cell_type": "code",
   "execution_count": 38,
   "id": "9c89337f-6c89-47c9-a88b-a0f36478043f",
   "metadata": {},
   "outputs": [
    {
     "name": "stdout",
     "output_type": "stream",
     "text": [
      "Topic #1: draw, cartoon, 3d, anime, manga, using, face, dog, cat, little\n",
      "Topic #2: use, google, android, windows, leftover, twitter, microsoft, facebook, iphone, oil\n",
      "Topic #3: write, letter, good, essay, book, paper, story, plan, resume, business\n",
      "Topic #4: rid, acne, skin, dog, treat, cold, dry, home, bad, using\n",
      "Topic #5: create, using, account, windows, google, home, microsoft, good, website, facebook\n",
      "Topic #6: stop, dog, cat, help, child, using, eating, feeling, iphone, getting\n",
      "Topic #7: cook, prepare, chicken, rice, pork, beef, frozen, red, baby, food\n",
      "Topic #8: deal, treat, school, friend, people, child, help, avoid, parents, dog\n",
      "Topic #9: like, look, act, good, dress, girl, school, girls, tell, know\n",
      "Topic #10: make, chocolate, money, cake, chicken, paper, homemade, runescape, cream, vegan\n",
      "Topic #11: choose, right, dog, good, cat, wedding, school, healthy, buy, home\n",
      "Topic #12: play, game, games, guitar, minecraft, card, video, super, google, online\n",
      "Topic #13: clean, leather, white, car, kitchen, dog, room, wood, water, cat\n",
      "Topic #14: care, hair, dog, skin, child, baby, cat, pet, new, grow\n",
      "Topic #15: remove, windows, change, hair, install, stains, paint, using, computer, car\n"
     ]
    }
   ],
   "source": [
    "# Display the topics and the top words in each topic\n",
    "feature_names = vectorizer.get_feature_names_out()\n",
    "\n",
    "# This loop iterates over each topic extracted by NMF.\n",
    "for topic_idx, topic in enumerate(nmf_model.components_):\n",
    "    top_words_indices = topic.argsort()[-10:][::-1]\n",
    "    top_words = [feature_names[i] for i in top_words_indices]\n",
    "    # The join method is used to concatenate the words into a single string, separated by commas.\n",
    "    print(f\"Topic #{topic_idx + 1}: {', '.join(top_words)}\")"
   ]
  },
  {
   "cell_type": "markdown",
   "id": "b1abdbba-2b01-4131-af4a-f519b5fa1f28",
   "metadata": {},
   "source": [
    "<b>Result Interpretation</b>: The Topics produced by NMF produce a list of words that are associated with that topic. For example, in Topic #1, ‘draw’, ‘cartoon’, ‘3d’, ‘anime’, ‘manga’ are strongly related. Other words, like ‘face’, ‘dog’, ‘cat’ seem to have little relation, but may be articles about drawing those items. "
   ]
  },
  {
   "cell_type": "markdown",
   "id": "ad62f155-d23a-476b-bd3b-c954ce333e7b",
   "metadata": {},
   "source": [
    "### Part 6: A Recommendation System Using Latent Dirichlet Allocation (LDA)"
   ]
  },
  {
   "cell_type": "markdown",
   "id": "2a327cad-fbb8-44ac-8249-fa20c56462b7",
   "metadata": {},
   "source": [
    "<b>Description</b>:  Latent Dirichlet Allocation (LDA) is used with cosine similarity to recommend articles without labels using unsupervised learning. LDA provides:\n",
    "\n",
    "* Topic discovery by analyzing the underlying structure of text documents without having topic labels\n",
    "* Bag-Of-Words (BOW) text representation, ignoring word order to focus on word frequency\n",
    "* A probabilistic approach based on a probability distribution of the words in the topics"
   ]
  },
  {
   "cell_type": "markdown",
   "id": "e1b6e5b7-0612-4eb7-b493-feb779afe47c",
   "metadata": {},
   "source": [
    "#### Create a DataFrame to store the article titles"
   ]
  },
  {
   "cell_type": "code",
   "execution_count": 39,
   "id": "12e5d493-18da-4a93-b8a1-b2638545a7ae",
   "metadata": {},
   "outputs": [
    {
     "data": {
      "text/html": [
       "<div>\n",
       "<style scoped>\n",
       "    .dataframe tbody tr th:only-of-type {\n",
       "        vertical-align: middle;\n",
       "    }\n",
       "\n",
       "    .dataframe tbody tr th {\n",
       "        vertical-align: top;\n",
       "    }\n",
       "\n",
       "    .dataframe thead th {\n",
       "        text-align: right;\n",
       "    }\n",
       "</style>\n",
       "<table border=\"1\" class=\"dataframe\">\n",
       "  <thead>\n",
       "    <tr style=\"text-align: right;\">\n",
       "      <th></th>\n",
       "      <th>title</th>\n",
       "    </tr>\n",
       "  </thead>\n",
       "  <tbody>\n",
       "    <tr>\n",
       "      <th>0</th>\n",
       "      <td>How to Be an Organized Artist1</td>\n",
       "    </tr>\n",
       "    <tr>\n",
       "      <th>1</th>\n",
       "      <td>How to Create a Neopoprealist Art Work</td>\n",
       "    </tr>\n",
       "    <tr>\n",
       "      <th>2</th>\n",
       "      <td>How to Be a Visual Effects Artist1</td>\n",
       "    </tr>\n",
       "    <tr>\n",
       "      <th>3</th>\n",
       "      <td>How to Become an Art Investor</td>\n",
       "    </tr>\n",
       "    <tr>\n",
       "      <th>4</th>\n",
       "      <td>How to Be an Organized Artist2</td>\n",
       "    </tr>\n",
       "  </tbody>\n",
       "</table>\n",
       "</div>"
      ],
      "text/plain": [
       "                                    title\n",
       "0          How to Be an Organized Artist1\n",
       "1  How to Create a Neopoprealist Art Work\n",
       "2      How to Be a Visual Effects Artist1\n",
       "3           How to Become an Art Investor\n",
       "4          How to Be an Organized Artist2"
      ]
     },
     "execution_count": 39,
     "metadata": {},
     "output_type": "execute_result"
    }
   ],
   "source": [
    "# Create a pandas DataFrame to hold the article titles\n",
    "df = pd.DataFrame(articles_df['title'].fillna(''))\n",
    "df.head(5)"
   ]
  },
  {
   "cell_type": "markdown",
   "id": "dcda3ae7-23cd-4ad8-b87a-0b74d9d686d7",
   "metadata": {},
   "source": [
    "#### Create the vectorizer and fit the model"
   ]
  },
  {
   "cell_type": "code",
   "execution_count": 40,
   "id": "1329ad6c-d4ee-4907-bfca-50a04dc2f234",
   "metadata": {},
   "outputs": [],
   "source": [
    "# Create the vectorizer and TFIDF matrix\n",
    "vectorizer = TfidfVectorizer(max_features=1000, stop_words='english')\n",
    "tfidf_matrix = vectorizer.fit_transform(df['title'])"
   ]
  },
  {
   "cell_type": "markdown",
   "id": "619d4e95-78c7-4bbc-b75c-cc35f9d727a4",
   "metadata": {},
   "source": [
    "#### Create the topics"
   ]
  },
  {
   "cell_type": "code",
   "execution_count": 41,
   "id": "a57cc33e-855c-4c0b-9ba6-01f59cfcd345",
   "metadata": {},
   "outputs": [
    {
     "data": {
      "text/html": [
       "<style>#sk-container-id-1 {color: black;}#sk-container-id-1 pre{padding: 0;}#sk-container-id-1 div.sk-toggleable {background-color: white;}#sk-container-id-1 label.sk-toggleable__label {cursor: pointer;display: block;width: 100%;margin-bottom: 0;padding: 0.3em;box-sizing: border-box;text-align: center;}#sk-container-id-1 label.sk-toggleable__label-arrow:before {content: \"▸\";float: left;margin-right: 0.25em;color: #696969;}#sk-container-id-1 label.sk-toggleable__label-arrow:hover:before {color: black;}#sk-container-id-1 div.sk-estimator:hover label.sk-toggleable__label-arrow:before {color: black;}#sk-container-id-1 div.sk-toggleable__content {max-height: 0;max-width: 0;overflow: hidden;text-align: left;background-color: #f0f8ff;}#sk-container-id-1 div.sk-toggleable__content pre {margin: 0.2em;color: black;border-radius: 0.25em;background-color: #f0f8ff;}#sk-container-id-1 input.sk-toggleable__control:checked~div.sk-toggleable__content {max-height: 200px;max-width: 100%;overflow: auto;}#sk-container-id-1 input.sk-toggleable__control:checked~label.sk-toggleable__label-arrow:before {content: \"▾\";}#sk-container-id-1 div.sk-estimator input.sk-toggleable__control:checked~label.sk-toggleable__label {background-color: #d4ebff;}#sk-container-id-1 div.sk-label input.sk-toggleable__control:checked~label.sk-toggleable__label {background-color: #d4ebff;}#sk-container-id-1 input.sk-hidden--visually {border: 0;clip: rect(1px 1px 1px 1px);clip: rect(1px, 1px, 1px, 1px);height: 1px;margin: -1px;overflow: hidden;padding: 0;position: absolute;width: 1px;}#sk-container-id-1 div.sk-estimator {font-family: monospace;background-color: #f0f8ff;border: 1px dotted black;border-radius: 0.25em;box-sizing: border-box;margin-bottom: 0.5em;}#sk-container-id-1 div.sk-estimator:hover {background-color: #d4ebff;}#sk-container-id-1 div.sk-parallel-item::after {content: \"\";width: 100%;border-bottom: 1px solid gray;flex-grow: 1;}#sk-container-id-1 div.sk-label:hover label.sk-toggleable__label {background-color: #d4ebff;}#sk-container-id-1 div.sk-serial::before {content: \"\";position: absolute;border-left: 1px solid gray;box-sizing: border-box;top: 0;bottom: 0;left: 50%;z-index: 0;}#sk-container-id-1 div.sk-serial {display: flex;flex-direction: column;align-items: center;background-color: white;padding-right: 0.2em;padding-left: 0.2em;position: relative;}#sk-container-id-1 div.sk-item {position: relative;z-index: 1;}#sk-container-id-1 div.sk-parallel {display: flex;align-items: stretch;justify-content: center;background-color: white;position: relative;}#sk-container-id-1 div.sk-item::before, #sk-container-id-1 div.sk-parallel-item::before {content: \"\";position: absolute;border-left: 1px solid gray;box-sizing: border-box;top: 0;bottom: 0;left: 50%;z-index: -1;}#sk-container-id-1 div.sk-parallel-item {display: flex;flex-direction: column;z-index: 1;position: relative;background-color: white;}#sk-container-id-1 div.sk-parallel-item:first-child::after {align-self: flex-end;width: 50%;}#sk-container-id-1 div.sk-parallel-item:last-child::after {align-self: flex-start;width: 50%;}#sk-container-id-1 div.sk-parallel-item:only-child::after {width: 0;}#sk-container-id-1 div.sk-dashed-wrapped {border: 1px dashed gray;margin: 0 0.4em 0.5em 0.4em;box-sizing: border-box;padding-bottom: 0.4em;background-color: white;}#sk-container-id-1 div.sk-label label {font-family: monospace;font-weight: bold;display: inline-block;line-height: 1.2em;}#sk-container-id-1 div.sk-label-container {text-align: center;}#sk-container-id-1 div.sk-container {/* jupyter's `normalize.less` sets `[hidden] { display: none; }` but bootstrap.min.css set `[hidden] { display: none !important; }` so we also need the `!important` here to be able to override the default hidden behavior on the sphinx rendered scikit-learn.org. See: https://github.com/scikit-learn/scikit-learn/issues/21755 */display: inline-block !important;position: relative;}#sk-container-id-1 div.sk-text-repr-fallback {display: none;}</style><div id=\"sk-container-id-1\" class=\"sk-top-container\"><div class=\"sk-text-repr-fallback\"><pre>LatentDirichletAllocation(n_components=15, random_state=42)</pre><b>In a Jupyter environment, please rerun this cell to show the HTML representation or trust the notebook. <br />On GitHub, the HTML representation is unable to render, please try loading this page with nbviewer.org.</b></div><div class=\"sk-container\" hidden><div class=\"sk-item\"><div class=\"sk-estimator sk-toggleable\"><input class=\"sk-toggleable__control sk-hidden--visually\" id=\"sk-estimator-id-1\" type=\"checkbox\" checked><label for=\"sk-estimator-id-1\" class=\"sk-toggleable__label sk-toggleable__label-arrow\">LatentDirichletAllocation</label><div class=\"sk-toggleable__content\"><pre>LatentDirichletAllocation(n_components=15, random_state=42)</pre></div></div></div></div></div>"
      ],
      "text/plain": [
       "LatentDirichletAllocation(n_components=15, random_state=42)"
      ]
     },
     "execution_count": 41,
     "metadata": {},
     "output_type": "execute_result"
    }
   ],
   "source": [
    "# Use LDA for topic modeling\n",
    "num_topics = 15\n",
    "lda = LatentDirichletAllocation(n_components=num_topics, random_state=42)\n",
    "lda.fit(tfidf_matrix)\n"
   ]
  },
  {
   "cell_type": "code",
   "execution_count": 42,
   "id": "7a123bdc-57a2-4662-9a21-2dbf5a18b1a8",
   "metadata": {},
   "outputs": [],
   "source": [
    "# Create the topic distribution\n",
    "topic_distributions = lda.transform(tfidf_matrix)"
   ]
  },
  {
   "cell_type": "code",
   "execution_count": 43,
   "id": "6adc7d93-3774-430b-ac98-7a3b18a69bc7",
   "metadata": {},
   "outputs": [],
   "source": [
    "# Choose the first article as a sample\n",
    "article_number = 0 \n",
    "article_topic = topic_distributions[article_number]"
   ]
  },
  {
   "cell_type": "markdown",
   "id": "5f12d284-39bb-45a4-bedf-450965f83e11",
   "metadata": {},
   "source": [
    "#### Use cosine similarity to find articles with similar topics"
   ]
  },
  {
   "cell_type": "code",
   "execution_count": 44,
   "id": "95ba522e-7c27-4bf4-96d6-92ea6d1d1e5f",
   "metadata": {},
   "outputs": [],
   "source": [
    "# Use the cosine similarity between articles based on topic distributions\n",
    "cosine_similarities = cosine_similarity(topic_distributions, [article_topic])"
   ]
  },
  {
   "cell_type": "code",
   "execution_count": 45,
   "id": "3b237435-0cb7-4d87-b09e-7f1e7a259158",
   "metadata": {},
   "outputs": [],
   "source": [
    "# Use cosine similarity to recommend similar articles\n",
    "num_recommendations = 5\n",
    "similar_articles = list(enumerate(cosine_similarities))\n",
    "similar_articles = sorted(similar_articles, key=lambda x: x[1], reverse=True)"
   ]
  },
  {
   "cell_type": "code",
   "execution_count": 46,
   "id": "2de538b6-b389-47ec-87d6-3f2a945e3df2",
   "metadata": {},
   "outputs": [
    {
     "name": "stdout",
     "output_type": "stream",
     "text": [
      "Recommend articles similar to: How to Be an Organized Artist1\n",
      "Recommended articles:\n",
      "Similarity: 1.0000 | Article: How to Be a Visual Effects Artist1\n",
      "Similarity: 1.0000 | Article: How to Be an Organized Artist2\n",
      "Similarity: 1.0000 | Article: How to Be an Organized Artist3\n",
      "Similarity: 1.0000 | Article: How to Be a Visual Effects Artist2\n",
      "Similarity: 1.0000 | Article: How to Be a Visual Effects Artist3\n"
     ]
    }
   ],
   "source": [
    "# Print the similar articles\n",
    "print(f\"Recommend articles similar to: {df['title'][0]}\")\n",
    "print(\"Recommended articles:\")\n",
    "for idx, similarity in similar_articles[1:num_recommendations+1]: \n",
    "    print(f\"Similarity: {similarity[0]:.4f} | Article: {df['title'][idx]}\")\n"
   ]
  },
  {
   "cell_type": "markdown",
   "id": "aa1662d1-4336-4464-b0cd-84ced7383752",
   "metadata": {},
   "source": [
    "<b>Result Interpretation</b>: The desired article title begins with ‘How to be a …’ and ends with the word ‘Artist’. Each of the recommended articles have a Similarity score of 1.0 (highly similar), also start with the phrase “How to Be a/an” and end with the word “Artist”; the number after the word “Artist” indicates the fact that the article is a duplicate, which was also recommended."
   ]
  },
  {
   "cell_type": "markdown",
   "id": "45e2af89-ee9f-4537-b48b-96443ec8a07e",
   "metadata": {},
   "source": [
    "### Part 7: Text Summarization Using Seq2Seq"
   ]
  },
  {
   "cell_type": "markdown",
   "id": "2cda19ba-7d3f-497c-8fff-94ef035b4021",
   "metadata": {},
   "source": [
    "A Sequence-to-Sequence (Seq2Seq) can accept a large article text and generate an article summary as output. It takes 'label'/'text' pairs as input that is used to reconstruct the original text. The features of Seq2Seq include:\n",
    "\n",
    "* An Encoder/Decoder neural network architecture where the encoder takes the input text to produce a context vector, and the the dcoder takes the context vector and reconstructs the original input sequence.\n",
    "* The input can be variable-length text that is padded to make the text lengths equal\n",
    "* The Attention Mechanism is used to find a specific part of the input text when processing long text sequences\n"
   ]
  },
  {
   "cell_type": "markdown",
   "id": "b4a3eba8-ca41-491b-a23b-2d0f79e009f2",
   "metadata": {},
   "source": [
    "#### Build a DataFrame from the 'title' and 'text' of the articles "
   ]
  },
  {
   "cell_type": "code",
   "execution_count": 47,
   "id": "4df45b45-8483-49d3-af47-a5d41722e5db",
   "metadata": {},
   "outputs": [
    {
     "data": {
      "text/html": [
       "<div>\n",
       "<style scoped>\n",
       "    .dataframe tbody tr th:only-of-type {\n",
       "        vertical-align: middle;\n",
       "    }\n",
       "\n",
       "    .dataframe tbody tr th {\n",
       "        vertical-align: top;\n",
       "    }\n",
       "\n",
       "    .dataframe thead th {\n",
       "        text-align: right;\n",
       "    }\n",
       "</style>\n",
       "<table border=\"1\" class=\"dataframe\">\n",
       "  <thead>\n",
       "    <tr style=\"text-align: right;\">\n",
       "      <th></th>\n",
       "      <th>title</th>\n",
       "      <th>text</th>\n",
       "    </tr>\n",
       "  </thead>\n",
       "  <tbody>\n",
       "    <tr>\n",
       "      <th>0</th>\n",
       "      <td>How to Be an Organized Artist1</td>\n",
       "      <td>If you're a photographer, keep all the necess...</td>\n",
       "    </tr>\n",
       "    <tr>\n",
       "      <th>1</th>\n",
       "      <td>How to Create a Neopoprealist Art Work</td>\n",
       "      <td>See the image for how this drawing develops s...</td>\n",
       "    </tr>\n",
       "    <tr>\n",
       "      <th>2</th>\n",
       "      <td>How to Be a Visual Effects Artist1</td>\n",
       "      <td>It is possible to become a VFX artist without...</td>\n",
       "    </tr>\n",
       "    <tr>\n",
       "      <th>3</th>\n",
       "      <td>How to Become an Art Investor</td>\n",
       "      <td>The best art investors do their research on t...</td>\n",
       "    </tr>\n",
       "    <tr>\n",
       "      <th>4</th>\n",
       "      <td>How to Be an Organized Artist2</td>\n",
       "      <td>As you start planning for a project or work, ...</td>\n",
       "    </tr>\n",
       "    <tr>\n",
       "      <th>5</th>\n",
       "      <td>How to Be an Organized Artist3</td>\n",
       "      <td>When you finish a project, whether it sells o...</td>\n",
       "    </tr>\n",
       "    <tr>\n",
       "      <th>6</th>\n",
       "      <td>How to Be a Visual Effects Artist2</td>\n",
       "      <td>This should be a short video showcasing the b...</td>\n",
       "    </tr>\n",
       "    <tr>\n",
       "      <th>7</th>\n",
       "      <td>How to Be a Visual Effects Artist3</td>\n",
       "      <td>Networking is a great way to find new opportu...</td>\n",
       "    </tr>\n",
       "    <tr>\n",
       "      <th>8</th>\n",
       "      <td>How to Be Good at Improvisation</td>\n",
       "      <td>Some entire movies are improvised, some plays...</td>\n",
       "    </tr>\n",
       "    <tr>\n",
       "      <th>9</th>\n",
       "      <td>How to Always Catch Pop Culture References1</td>\n",
       "      <td>Use your friends’ conversations to figure out...</td>\n",
       "    </tr>\n",
       "  </tbody>\n",
       "</table>\n",
       "</div>"
      ],
      "text/plain": [
       "                                         title  \\\n",
       "0               How to Be an Organized Artist1   \n",
       "1       How to Create a Neopoprealist Art Work   \n",
       "2           How to Be a Visual Effects Artist1   \n",
       "3                How to Become an Art Investor   \n",
       "4               How to Be an Organized Artist2   \n",
       "5               How to Be an Organized Artist3   \n",
       "6           How to Be a Visual Effects Artist2   \n",
       "7           How to Be a Visual Effects Artist3   \n",
       "8              How to Be Good at Improvisation   \n",
       "9  How to Always Catch Pop Culture References1   \n",
       "\n",
       "                                                text  \n",
       "0   If you're a photographer, keep all the necess...  \n",
       "1   See the image for how this drawing develops s...  \n",
       "2   It is possible to become a VFX artist without...  \n",
       "3   The best art investors do their research on t...  \n",
       "4   As you start planning for a project or work, ...  \n",
       "5   When you finish a project, whether it sells o...  \n",
       "6   This should be a short video showcasing the b...  \n",
       "7   Networking is a great way to find new opportu...  \n",
       "8   Some entire movies are improvised, some plays...  \n",
       "9   Use your friends’ conversations to figure out...  "
      ]
     },
     "execution_count": 47,
     "metadata": {},
     "output_type": "execute_result"
    }
   ],
   "source": [
    "# Create a pandas DataFrame with the article text\n",
    "df = articles_df[['title', 'text']].iloc[:10].copy()\n",
    "df.head(10)"
   ]
  },
  {
   "cell_type": "markdown",
   "id": "17d4ac44-1379-4d36-8270-43dca6e95e8e",
   "metadata": {},
   "source": [
    "#### Build the tokenizer to process the text"
   ]
  },
  {
   "cell_type": "code",
   "execution_count": 48,
   "id": "d14566ad-5325-46bd-8b0e-6f516403bd7a",
   "metadata": {},
   "outputs": [],
   "source": [
    "# Create tokenizer for 'text'\n",
    "max_len_text = 1500\n",
    "tokenizer_text = Tokenizer()\n",
    "tokenizer_text.fit_on_texts(df['text'])\n",
    "seq_text = tokenizer_text.texts_to_sequences(df['text'])\n",
    "padded_text = pad_sequences(seq_text, maxlen=max_len_text, padding='post')"
   ]
  },
  {
   "cell_type": "code",
   "execution_count": 49,
   "id": "72b7913b-4f2b-4f1a-bdf7-c0b6f429a803",
   "metadata": {},
   "outputs": [],
   "source": [
    "# Create tokenizer for 'title'\n",
    "max_len_title = 10\n",
    "tokenizer_title = Tokenizer()\n",
    "tokenizer_title.fit_on_texts(df['title'])\n",
    "seq_title = tokenizer_title.texts_to_sequences(df['title'])\n",
    "padded_title = pad_sequences(seq_title, maxlen=max_len_title, padding='post')\n"
   ]
  },
  {
   "cell_type": "markdown",
   "id": "cfe24039-5902-45e4-a712-9ad527a5ca37",
   "metadata": {},
   "source": [
    "#### Build the Seq2Seq vcabulary, encoder and decoder"
   ]
  },
  {
   "cell_type": "code",
   "execution_count": 50,
   "id": "1b5789ca-1da1-4c41-bdc2-14134c10fb90",
   "metadata": {},
   "outputs": [],
   "source": [
    "# Create the seq2seq model\n",
    "vocab_size_text = len(tokenizer_text.word_index) + 1\n",
    "vocab_size_title = len(tokenizer_title.word_index) + 1\n",
    "latent_dim = 300 "
   ]
  },
  {
   "cell_type": "code",
   "execution_count": 51,
   "id": "becd7894-81df-49cf-afba-ee13ae0fd204",
   "metadata": {},
   "outputs": [],
   "source": [
    "# Create the Seq2Seq Encoder\n",
    "encoder_inputs = tf.keras.layers.Input(shape=(max_len_text,))\n",
    "enc_emb = tf.keras.layers.Embedding(vocab_size_text, latent_dim, trainable=True)(encoder_inputs)\n",
    "encoder_lstm = tf.keras.layers.LSTM(latent_dim, return_state=True)\n",
    "encoder_outputs, state_h, state_c = encoder_lstm(enc_emb)\n",
    "encoder_states = [state_h, state_c]"
   ]
  },
  {
   "cell_type": "code",
   "execution_count": 52,
   "id": "75d448cf-7a8f-4d2d-8c32-6dcb5dd87584",
   "metadata": {},
   "outputs": [],
   "source": [
    "# Create the Seq2Seq Decoder\n",
    "decoder_inputs = tf.keras.layers.Input(shape=(None,))\n",
    "dec_emb_layer = tf.keras.layers.Embedding(vocab_size_title, latent_dim, trainable=True)\n",
    "dec_emb = dec_emb_layer(decoder_inputs)\n",
    "decoder_lstm = tf.keras.layers.LSTM(latent_dim, return_sequences=True, return_state=True)\n",
    "decoder_outputs, _, _ = decoder_lstm(dec_emb, initial_state=encoder_states)\n",
    "decoder_dense = tf.keras.layers.Dense(vocab_size_title, activation='softmax')\n",
    "output = decoder_dense(decoder_outputs)"
   ]
  },
  {
   "cell_type": "markdown",
   "id": "99520ba4-45d7-424e-97eb-6997f8757f82",
   "metadata": {},
   "source": [
    "#### Build, compile, and train the Seq2Seq model"
   ]
  },
  {
   "cell_type": "code",
   "execution_count": 53,
   "id": "c843437f-8a08-4fb1-9109-80c304056d88",
   "metadata": {},
   "outputs": [],
   "source": [
    "# Create the model\n",
    "model = tf.keras.models.Model([encoder_inputs, decoder_inputs], output)\n",
    "\n",
    "# Compile the model\n",
    "model.compile(optimizer='adam', loss='sparse_categorical_crossentropy')"
   ]
  },
  {
   "cell_type": "code",
   "execution_count": 54,
   "id": "d87b93b6-4796-4215-be1a-7662e132923d",
   "metadata": {},
   "outputs": [
    {
     "name": "stdout",
     "output_type": "stream",
     "text": [
      "Epoch 1/50\n",
      "1/1 [==============================] - 17s 17s/step - loss: 3.2539\n",
      "Epoch 2/50\n",
      "1/1 [==============================] - 9s 9s/step - loss: 3.1782\n",
      "Epoch 3/50\n",
      "1/1 [==============================] - 9s 9s/step - loss: 3.0681\n",
      "Epoch 4/50\n",
      "1/1 [==============================] - 9s 9s/step - loss: 2.8206\n",
      "Epoch 5/50\n",
      "1/1 [==============================] - 9s 9s/step - loss: 2.2289\n",
      "Epoch 6/50\n",
      "1/1 [==============================] - 9s 9s/step - loss: 2.4628\n",
      "Epoch 7/50\n",
      "1/1 [==============================] - 9s 9s/step - loss: 2.1811\n",
      "Epoch 8/50\n",
      "1/1 [==============================] - 9s 9s/step - loss: 1.9917\n",
      "Epoch 9/50\n",
      "1/1 [==============================] - 9s 9s/step - loss: 1.9303\n",
      "Epoch 10/50\n",
      "1/1 [==============================] - 9s 9s/step - loss: 1.8613\n",
      "Epoch 11/50\n",
      "1/1 [==============================] - 9s 9s/step - loss: 1.7930\n",
      "Epoch 12/50\n",
      "1/1 [==============================] - 9s 9s/step - loss: 1.7606\n",
      "Epoch 13/50\n",
      "1/1 [==============================] - 9s 9s/step - loss: 1.7438\n",
      "Epoch 14/50\n",
      "1/1 [==============================] - 9s 9s/step - loss: 1.7073\n",
      "Epoch 15/50\n",
      "1/1 [==============================] - 9s 9s/step - loss: 1.6451\n",
      "Epoch 16/50\n",
      "1/1 [==============================] - 9s 9s/step - loss: 1.5792\n",
      "Epoch 17/50\n",
      "1/1 [==============================] - 9s 9s/step - loss: 1.5354\n",
      "Epoch 18/50\n",
      "1/1 [==============================] - 9s 9s/step - loss: 1.5110\n",
      "Epoch 19/50\n",
      "1/1 [==============================] - 9s 9s/step - loss: 1.4768\n",
      "Epoch 20/50\n",
      "1/1 [==============================] - 9s 9s/step - loss: 1.4287\n",
      "Epoch 21/50\n",
      "1/1 [==============================] - 8s 8s/step - loss: 1.3894\n",
      "Epoch 22/50\n",
      "1/1 [==============================] - 9s 9s/step - loss: 1.3659\n",
      "Epoch 23/50\n",
      "1/1 [==============================] - 9s 9s/step - loss: 1.3410\n",
      "Epoch 24/50\n",
      "1/1 [==============================] - 9s 9s/step - loss: 1.3021\n",
      "Epoch 25/50\n",
      "1/1 [==============================] - 9s 9s/step - loss: 1.2598\n",
      "Epoch 26/50\n",
      "1/1 [==============================] - 9s 9s/step - loss: 1.2293\n",
      "Epoch 27/50\n",
      "1/1 [==============================] - 9s 9s/step - loss: 1.2040\n",
      "Epoch 28/50\n",
      "1/1 [==============================] - 8s 8s/step - loss: 1.1692\n",
      "Epoch 29/50\n",
      "1/1 [==============================] - 9s 9s/step - loss: 1.1337\n",
      "Epoch 30/50\n",
      "1/1 [==============================] - 9s 9s/step - loss: 1.1089\n",
      "Epoch 31/50\n",
      "1/1 [==============================] - 8s 8s/step - loss: 1.0841\n",
      "Epoch 32/50\n",
      "1/1 [==============================] - 9s 9s/step - loss: 1.0502\n",
      "Epoch 33/50\n",
      "1/1 [==============================] - 9s 9s/step - loss: 1.0188\n",
      "Epoch 34/50\n",
      "1/1 [==============================] - 9s 9s/step - loss: 0.9956\n",
      "Epoch 35/50\n",
      "1/1 [==============================] - 9s 9s/step - loss: 0.9663\n",
      "Epoch 36/50\n",
      "1/1 [==============================] - 9s 9s/step - loss: 0.9352\n",
      "Epoch 37/50\n",
      "1/1 [==============================] - 8s 8s/step - loss: 0.9130\n",
      "Epoch 38/50\n",
      "1/1 [==============================] - 9s 9s/step - loss: 0.8870\n",
      "Epoch 39/50\n",
      "1/1 [==============================] - 9s 9s/step - loss: 0.8580\n",
      "Epoch 40/50\n",
      "1/1 [==============================] - 9s 9s/step - loss: 0.8360\n",
      "Epoch 41/50\n",
      "1/1 [==============================] - 9s 9s/step - loss: 0.8102\n",
      "Epoch 42/50\n",
      "1/1 [==============================] - 9s 9s/step - loss: 0.7845\n",
      "Epoch 43/50\n",
      "1/1 [==============================] - 9s 9s/step - loss: 0.7636\n",
      "Epoch 44/50\n",
      "1/1 [==============================] - 9s 9s/step - loss: 0.7378\n",
      "Epoch 45/50\n",
      "1/1 [==============================] - 9s 9s/step - loss: 0.7148\n",
      "Epoch 46/50\n",
      "1/1 [==============================] - 8s 8s/step - loss: 0.6929\n",
      "Epoch 47/50\n",
      "1/1 [==============================] - 9s 9s/step - loss: 0.6682\n",
      "Epoch 48/50\n",
      "1/1 [==============================] - 9s 9s/step - loss: 0.6478\n",
      "Epoch 49/50\n",
      "1/1 [==============================] - 9s 9s/step - loss: 0.6243\n",
      "Epoch 50/50\n",
      "1/1 [==============================] - 9s 9s/step - loss: 0.6031\n"
     ]
    },
    {
     "data": {
      "text/plain": [
       "<keras.src.callbacks.History at 0x13a13c6b790>"
      ]
     },
     "execution_count": 54,
     "metadata": {},
     "output_type": "execute_result"
    }
   ],
   "source": [
    "# Fit (train) the model\n",
    "model.fit([padded_text, padded_title[:, :-1]], padded_title[:, 1:], epochs=50, batch_size=64)"
   ]
  },
  {
   "cell_type": "markdown",
   "id": "05417a7d-4c9c-4bc6-8215-e1d05d96b82f",
   "metadata": {},
   "source": [
    "#### Generate an article summary by predicting the article title base on the article text."
   ]
  },
  {
   "cell_type": "code",
   "execution_count": 55,
   "id": "0d2bf8f7-6d35-461b-8677-951196e6c0c6",
   "metadata": {},
   "outputs": [
    {
     "name": "stdout",
     "output_type": "stream",
     "text": [
      "1/1 [==============================] - 3s 3s/step\n",
      "1/1 [==============================] - 0s 375ms/step\n",
      "1/1 [==============================] - 0s 402ms/step\n",
      "1/1 [==============================] - 0s 375ms/step\n",
      "1/1 [==============================] - 0s 372ms/step\n",
      "1/1 [==============================] - 0s 375ms/step\n",
      "1/1 [==============================] - 0s 368ms/step\n",
      "1/1 [==============================] - 0s 363ms/step\n",
      "1/1 [==============================] - 0s 376ms/step\n",
      "Predicted Article Title:\n",
      "to be an organized artist3\n"
     ]
    }
   ],
   "source": [
    "# Specify the text of the article\n",
    "sample_text = articles_df['text'][0]\n",
    "\n",
    "# Tokenize the input text and pad any empty space with 0's\n",
    "seq = tokenizer_text.texts_to_sequences([sample_text])\n",
    "padded_seq = pad_sequences(seq, maxlen=max_len_text, padding='post')\n",
    "initial_input = np.zeros((1, max_len_title))\n",
    "\n",
    "# Use the padded sequence to predict the corresponding article title\n",
    "for i in range(1, max_len_title):\n",
    "    predictions = model.predict([padded_seq, initial_input])\n",
    "    sampled_token_index = np.argmax(predictions[0, i-1, :])\n",
    "    initial_input[0, i] = sampled_token_index\n",
    "    \n",
    "# Remove padding and convert the generated sequence back to text\n",
    "generated_title_ids = initial_input[0][1:]  \n",
    "generated_title_text = tokenizer_title.sequences_to_texts([generated_title_ids])[0]\n",
    "\n",
    "print(\"Predicted Article Title:\")\n",
    "print(generated_title_text)\n",
    "\n"
   ]
  },
  {
   "cell_type": "code",
   "execution_count": 56,
   "id": "913f26c6-64a5-4d41-9032-29546c06cc92",
   "metadata": {},
   "outputs": [
    {
     "name": "stdout",
     "output_type": "stream",
     "text": [
      "Actual article title:\n"
     ]
    },
    {
     "data": {
      "text/plain": [
       "'How to Be an Organized Artist1'"
      ]
     },
     "execution_count": 56,
     "metadata": {},
     "output_type": "execute_result"
    }
   ],
   "source": [
    "print('Actual article title:')\n",
    "articles_df['title'][0]"
   ]
  },
  {
   "cell_type": "markdown",
   "id": "29105d55-309c-47dc-83f4-2f889a9ccb95",
   "metadata": {},
   "source": [
    "<b>Result Interpretation</b>: The predicted article title mentions ‘organized artist3’, while the actual article title corresponding to the article text is ‘Organized Artist1’. The text for the titles may be too similar for Seq2Seq to differentiate them."
   ]
  },
  {
   "cell_type": "markdown",
   "id": "23fb4a7d-62d0-4b55-8a6c-76472d341eb5",
   "metadata": {},
   "source": [
    "## Summary and conclusion"
   ]
  },
  {
   "cell_type": "markdown",
   "id": "fa0cf6d3-7a53-4d8e-b768-3f1328ce2d29",
   "metadata": {},
   "source": [
    "This project employed several NLP techniques to provide textual analsys. These include:\n",
    "\n",
    "* NLP libraries and pretrained models (spaCy, NLTK, Transformers, Gensim)\n",
    "* NLP topics (NER, Seq2Seq, Attention, Word2Vec, Tokenization, LDA, NMF, BOW)\n",
    "* NLP Applications (Recommendation System, Text Summarization)\n",
    "\n",
    "Transformers with the Hugging Face library provided excellent results for text summarization with minimal training. Hugging Face is quite advanced and has a robust developer ecosystem building products with it. When doing a project, it becomes apparent quickly which technologies are actually being used by developers based on the number of websites, on-line tutorials, and help that is being provided. \n",
    "\n",
    "Seq2Seq provided a good way to take paired article titles and article text and generate text that provided an article summary.Seq2Seq, using the encoder/decoder deep neural networks has a great future for generative technologies. Seq2Seq did not have many on-line resources (compared to Hugging Face) but it is seeing use in research and will likely develop over time.\n",
    "\n",
    "Word2Vec provided excellent results for semantic analysis to be able to visualize how ‘close’ two articles were in meaning with minimal training. \n"
   ]
  },
  {
   "cell_type": "markdown",
   "id": "64c59836-3ec3-4af1-8046-9cfe2fb486ef",
   "metadata": {},
   "source": [
    "## Publication"
   ]
  },
  {
   "cell_type": "markdown",
   "id": "1484e768-40bc-49e5-8050-51f88377d9c6",
   "metadata": {},
   "source": [
    "YouTube Video Link: https://youtu.be/ZczuOc-wCTY\n",
    "\n",
    "GitHub Repo Link: https://github.com/PaulSandeen-mtsac/Mt.SAC_CISB63_Final_Project\n"
   ]
  },
  {
   "cell_type": "code",
   "execution_count": null,
   "id": "d47b1e82-84a8-41f2-be91-7b2ace53c79d",
   "metadata": {},
   "outputs": [],
   "source": []
  }
 ],
 "metadata": {
  "kernelspec": {
   "display_name": "Python 3 (ipykernel)",
   "language": "python",
   "name": "python3"
  },
  "language_info": {
   "codemirror_mode": {
    "name": "ipython",
    "version": 3
   },
   "file_extension": ".py",
   "mimetype": "text/x-python",
   "name": "python",
   "nbconvert_exporter": "python",
   "pygments_lexer": "ipython3",
   "version": "3.11.5"
  }
 },
 "nbformat": 4,
 "nbformat_minor": 5
}
